{
 "cells": [
  {
   "cell_type": "code",
   "execution_count": 1,
   "metadata": {
    "collapsed": true
   },
   "outputs": [],
   "source": [
    "import pandas as pd\n",
    "import numpy as np"
   ]
  },
  {
   "cell_type": "code",
   "execution_count": 2,
   "metadata": {
    "collapsed": true
   },
   "outputs": [],
   "source": [
    "data = {\n",
    "  \"inventory number\": {\n",
    "    \"1236\": \"110\",\n",
    "    \"5188\": \"101\",\n",
    "    \"19497\": \"111\",\n",
    "    \"5123\": \"010\",\n",
    "    \"27358\": \"011\"\n",
    "  },\n",
    "  \"cost\": {\n",
    "    \"1236\": 20.80,\n",
    "    \"5188\": 28.86,\n",
    "    \"19497\": 112.69,\n",
    "    \"5123\": 165.03,\n",
    "    \"27358\": 54.02\n",
    "  },\n",
    "  \"map\": {\n",
    "    \"1236\": \"True\",\n",
    "    \"5188\": \"True\",\n",
    "    \"19497\": \"True\",\n",
    "    \"5123\": \"True\",\n",
    "    \"27358\": \"False\"\n",
    "  },\n",
    "  \"cat\": {\n",
    "    \"1236\": \"CONSUMABLE\",\n",
    "    \"5188\": \"ELECTRONICS\",\n",
    "    \"19497\": \"POWER TOOL\",\n",
    "    \"5123\": \"POWER TOOL\",\n",
    "    \"27358\": \"APPLIANCES\"\n",
    "  }\n",
    "}\n",
    "\n",
    "dest = pd.DataFrame(data=data)"
   ]
  },
  {
   "cell_type": "code",
   "execution_count": 3,
   "metadata": {
    "collapsed": false
   },
   "outputs": [],
   "source": [
    "data = {\n",
    "  \"inventory number\": {\n",
    "    \"1236\": \"110\",\n",
    "    \"5188\": \"101\",\n",
    "    \"19497\": \"111\",\n",
    "    \"5123\": \"010\",\n",
    "    \"27358\": \"011\"\n",
    "  },\n",
    "  \"cost\": {\n",
    "    \"1236\": 21.80,\n",
    "    \"5188\": 33.86,\n",
    "    \"19497\": 100.69,\n",
    "    \"5123\": 169.03,\n",
    "    \"27358\": 49.99\n",
    "  },\n",
    "  \"map\": {\n",
    "    \"1236\": \"True\",\n",
    "    \"5188\": \"True\",\n",
    "    \"19497\": \"True\",\n",
    "    \"5123\": \"False\",\n",
    "    \"27358\": \"False\"\n",
    "  },\n",
    "  \"cat\": {\n",
    "    \"1236\": \"CONSUMABLE\",\n",
    "    \"5188\": \"ELECTRONICS\",\n",
    "    \"19497\": \"Electronics\",\n",
    "    \"5123\": \"POWER TOOL\",\n",
    "    \"27358\": \"Home/Kitchen\"\n",
    "  }\n",
    "}\n",
    "\n",
    "source = pd.DataFrame(data=data)"
   ]
  },
  {
   "cell_type": "code",
   "execution_count": 4,
   "metadata": {
    "collapsed": false
   },
   "outputs": [
    {
     "data": {
      "text/html": [
       "<div>\n",
       "<style>\n",
       "    .dataframe thead tr:only-child th {\n",
       "        text-align: right;\n",
       "    }\n",
       "\n",
       "    .dataframe thead th {\n",
       "        text-align: left;\n",
       "    }\n",
       "\n",
       "    .dataframe tbody tr th {\n",
       "        vertical-align: top;\n",
       "    }\n",
       "</style>\n",
       "<table border=\"1\" class=\"dataframe\">\n",
       "  <thead>\n",
       "    <tr style=\"text-align: right;\">\n",
       "      <th></th>\n",
       "      <th>cat</th>\n",
       "      <th>cost</th>\n",
       "      <th>inventory number</th>\n",
       "      <th>map</th>\n",
       "    </tr>\n",
       "  </thead>\n",
       "  <tbody>\n",
       "    <tr>\n",
       "      <th>1236</th>\n",
       "      <td>CONSUMABLE</td>\n",
       "      <td>21.80</td>\n",
       "      <td>110</td>\n",
       "      <td>True</td>\n",
       "    </tr>\n",
       "    <tr>\n",
       "      <th>19497</th>\n",
       "      <td>Electronics</td>\n",
       "      <td>100.69</td>\n",
       "      <td>111</td>\n",
       "      <td>True</td>\n",
       "    </tr>\n",
       "    <tr>\n",
       "      <th>27358</th>\n",
       "      <td>Home/Kitchen</td>\n",
       "      <td>49.99</td>\n",
       "      <td>011</td>\n",
       "      <td>False</td>\n",
       "    </tr>\n",
       "    <tr>\n",
       "      <th>5123</th>\n",
       "      <td>POWER TOOL</td>\n",
       "      <td>169.03</td>\n",
       "      <td>010</td>\n",
       "      <td>False</td>\n",
       "    </tr>\n",
       "    <tr>\n",
       "      <th>5188</th>\n",
       "      <td>ELECTRONICS</td>\n",
       "      <td>33.86</td>\n",
       "      <td>101</td>\n",
       "      <td>True</td>\n",
       "    </tr>\n",
       "  </tbody>\n",
       "</table>\n",
       "</div>"
      ],
      "text/plain": [
       "                cat    cost inventory number    map\n",
       "1236     CONSUMABLE   21.80              110   True\n",
       "19497   Electronics  100.69              111   True\n",
       "27358  Home/Kitchen   49.99              011  False\n",
       "5123     POWER TOOL  169.03              010  False\n",
       "5188    ELECTRONICS   33.86              101   True"
      ]
     },
     "execution_count": 4,
     "metadata": {},
     "output_type": "execute_result"
    }
   ],
   "source": [
    "source"
   ]
  },
  {
   "cell_type": "code",
   "execution_count": 5,
   "metadata": {
    "collapsed": false
   },
   "outputs": [
    {
     "data": {
      "text/html": [
       "<div>\n",
       "<style>\n",
       "    .dataframe thead tr:only-child th {\n",
       "        text-align: right;\n",
       "    }\n",
       "\n",
       "    .dataframe thead th {\n",
       "        text-align: left;\n",
       "    }\n",
       "\n",
       "    .dataframe tbody tr th {\n",
       "        vertical-align: top;\n",
       "    }\n",
       "</style>\n",
       "<table border=\"1\" class=\"dataframe\">\n",
       "  <thead>\n",
       "    <tr style=\"text-align: right;\">\n",
       "      <th></th>\n",
       "      <th>cat</th>\n",
       "      <th>cost</th>\n",
       "      <th>inventory number</th>\n",
       "      <th>map</th>\n",
       "    </tr>\n",
       "  </thead>\n",
       "  <tbody>\n",
       "    <tr>\n",
       "      <th>1236</th>\n",
       "      <td>CONSUMABLE</td>\n",
       "      <td>20.80</td>\n",
       "      <td>110</td>\n",
       "      <td>True</td>\n",
       "    </tr>\n",
       "    <tr>\n",
       "      <th>19497</th>\n",
       "      <td>POWER TOOL</td>\n",
       "      <td>112.69</td>\n",
       "      <td>111</td>\n",
       "      <td>True</td>\n",
       "    </tr>\n",
       "    <tr>\n",
       "      <th>27358</th>\n",
       "      <td>APPLIANCES</td>\n",
       "      <td>54.02</td>\n",
       "      <td>011</td>\n",
       "      <td>False</td>\n",
       "    </tr>\n",
       "    <tr>\n",
       "      <th>5123</th>\n",
       "      <td>POWER TOOL</td>\n",
       "      <td>165.03</td>\n",
       "      <td>010</td>\n",
       "      <td>True</td>\n",
       "    </tr>\n",
       "    <tr>\n",
       "      <th>5188</th>\n",
       "      <td>ELECTRONICS</td>\n",
       "      <td>28.86</td>\n",
       "      <td>101</td>\n",
       "      <td>True</td>\n",
       "    </tr>\n",
       "  </tbody>\n",
       "</table>\n",
       "</div>"
      ],
      "text/plain": [
       "               cat    cost inventory number    map\n",
       "1236    CONSUMABLE   20.80              110   True\n",
       "19497   POWER TOOL  112.69              111   True\n",
       "27358   APPLIANCES   54.02              011  False\n",
       "5123    POWER TOOL  165.03              010   True\n",
       "5188   ELECTRONICS   28.86              101   True"
      ]
     },
     "execution_count": 5,
     "metadata": {},
     "output_type": "execute_result"
    }
   ],
   "source": [
    "dest"
   ]
  },
  {
   "cell_type": "code",
   "execution_count": 8,
   "metadata": {
    "collapsed": false
   },
   "outputs": [
    {
     "data": {
      "text/html": [
       "<div>\n",
       "<style>\n",
       "    .dataframe thead tr:only-child th {\n",
       "        text-align: right;\n",
       "    }\n",
       "\n",
       "    .dataframe thead th {\n",
       "        text-align: left;\n",
       "    }\n",
       "\n",
       "    .dataframe tbody tr th {\n",
       "        vertical-align: top;\n",
       "    }\n",
       "</style>\n",
       "<table border=\"1\" class=\"dataframe\">\n",
       "  <thead>\n",
       "    <tr style=\"text-align: right;\">\n",
       "      <th></th>\n",
       "      <th>cat</th>\n",
       "      <th>cost</th>\n",
       "      <th>inventory number</th>\n",
       "      <th>map</th>\n",
       "    </tr>\n",
       "  </thead>\n",
       "  <tbody>\n",
       "    <tr>\n",
       "      <th>1236</th>\n",
       "      <td>CONSUMABLE</td>\n",
       "      <td>20.80</td>\n",
       "      <td>110</td>\n",
       "      <td>True</td>\n",
       "    </tr>\n",
       "    <tr>\n",
       "      <th>19497</th>\n",
       "      <td>POWER TOOL</td>\n",
       "      <td>112.69</td>\n",
       "      <td>111</td>\n",
       "      <td>True</td>\n",
       "    </tr>\n",
       "    <tr>\n",
       "      <th>27358</th>\n",
       "      <td>APPLIANCES</td>\n",
       "      <td>54.02</td>\n",
       "      <td>011</td>\n",
       "      <td>False</td>\n",
       "    </tr>\n",
       "    <tr>\n",
       "      <th>5123</th>\n",
       "      <td>POWER TOOL</td>\n",
       "      <td>165.03</td>\n",
       "      <td>010</td>\n",
       "      <td>True</td>\n",
       "    </tr>\n",
       "    <tr>\n",
       "      <th>5188</th>\n",
       "      <td>ELECTRONICS</td>\n",
       "      <td>28.86</td>\n",
       "      <td>101</td>\n",
       "      <td>True</td>\n",
       "    </tr>\n",
       "  </tbody>\n",
       "</table>\n",
       "</div>"
      ],
      "text/plain": [
       "               cat    cost inventory number    map\n",
       "1236    CONSUMABLE   20.80              110   True\n",
       "19497   POWER TOOL  112.69              111   True\n",
       "27358   APPLIANCES   54.02              011  False\n",
       "5123    POWER TOOL  165.03              010   True\n",
       "5188   ELECTRONICS   28.86              101   True"
      ]
     },
     "execution_count": 8,
     "metadata": {},
     "output_type": "execute_result"
    }
   ],
   "source": [
    "dest.combine_first(source)"
   ]
  },
  {
   "cell_type": "code",
   "execution_count": 6,
   "metadata": {
    "collapsed": false
   },
   "outputs": [
    {
     "data": {
      "text/html": [
       "<div>\n",
       "<style>\n",
       "    .dataframe thead tr:only-child th {\n",
       "        text-align: right;\n",
       "    }\n",
       "\n",
       "    .dataframe thead th {\n",
       "        text-align: left;\n",
       "    }\n",
       "\n",
       "    .dataframe tbody tr th {\n",
       "        vertical-align: top;\n",
       "    }\n",
       "</style>\n",
       "<table border=\"1\" class=\"dataframe\">\n",
       "  <thead>\n",
       "    <tr style=\"text-align: right;\">\n",
       "      <th></th>\n",
       "      <th>cat</th>\n",
       "      <th>cost</th>\n",
       "      <th>inventory number</th>\n",
       "      <th>map</th>\n",
       "    </tr>\n",
       "  </thead>\n",
       "  <tbody>\n",
       "    <tr>\n",
       "      <th>1236</th>\n",
       "      <td>NaN</td>\n",
       "      <td>21.80</td>\n",
       "      <td>NaN</td>\n",
       "      <td>NaN</td>\n",
       "    </tr>\n",
       "    <tr>\n",
       "      <th>19497</th>\n",
       "      <td>Electronics</td>\n",
       "      <td>100.69</td>\n",
       "      <td>NaN</td>\n",
       "      <td>NaN</td>\n",
       "    </tr>\n",
       "    <tr>\n",
       "      <th>27358</th>\n",
       "      <td>Home/Kitchen</td>\n",
       "      <td>49.99</td>\n",
       "      <td>NaN</td>\n",
       "      <td>NaN</td>\n",
       "    </tr>\n",
       "    <tr>\n",
       "      <th>5123</th>\n",
       "      <td>NaN</td>\n",
       "      <td>169.03</td>\n",
       "      <td>NaN</td>\n",
       "      <td>False</td>\n",
       "    </tr>\n",
       "    <tr>\n",
       "      <th>5188</th>\n",
       "      <td>NaN</td>\n",
       "      <td>33.86</td>\n",
       "      <td>NaN</td>\n",
       "      <td>NaN</td>\n",
       "    </tr>\n",
       "  </tbody>\n",
       "</table>\n",
       "</div>"
      ],
      "text/plain": [
       "                cat    cost inventory number    map\n",
       "1236            NaN   21.80              NaN    NaN\n",
       "19497   Electronics  100.69              NaN    NaN\n",
       "27358  Home/Kitchen   49.99              NaN    NaN\n",
       "5123            NaN  169.03              NaN  False\n",
       "5188            NaN   33.86              NaN    NaN"
      ]
     },
     "execution_count": 6,
     "metadata": {},
     "output_type": "execute_result"
    }
   ],
   "source": [
    "source[~(source == dest)]"
   ]
  },
  {
   "cell_type": "code",
   "execution_count": null,
   "metadata": {
    "collapsed": true
   },
   "outputs": [],
   "source": [
    "data = {\n",
    "\"inventory number\": {\n",
    "\"0\": \"010\",\n",
    "\"1\": \"011\",\n",
    "\"2\": \"101\",\n",
    "\"3\": \"110\",\n",
    "\"4\": \"111\"\n",
    "},\n",
    "\"cat\": {\n",
    "\"0\": np.nan,\n",
    "\"1\": \"Home\\\\/Kitchen\",\n",
    "\"2\": np.nan,\n",
    "\"3\": np.nan,\n",
    "\"4\": \"Electronics\"\n",
    "},\n",
    "\"cost\": {\n",
    "\"0\": 169.03,\n",
    "\"1\": 49.99,\n",
    "\"2\": 33.86,\n",
    "\"3\": 21.8,\n",
    "\"4\": 100.69\n",
    "},\n",
    "\"map\": {\n",
    "\"0\": \"False\",\n",
    "\"1\": np.nan,\n",
    "\"2\": np.nan,\n",
    "\"3\": np.nan,\n",
    "\"4\": np.nan\n",
    "}\n",
    "}\n",
    "\n",
    "desired_output = pd.DataFrame(data=data)"
   ]
  },
  {
   "cell_type": "code",
   "execution_count": null,
   "metadata": {
    "collapsed": false
   },
   "outputs": [],
   "source": [
    "desired_output.sort_values('inventory number', inplace=True)"
   ]
  },
  {
   "cell_type": "code",
   "execution_count": null,
   "metadata": {
    "collapsed": false
   },
   "outputs": [],
   "source": [
    "do = source[~(source == dest)]\n",
    "do['inventory number'] = source['inventory number']"
   ]
  },
  {
   "cell_type": "code",
   "execution_count": null,
   "metadata": {
    "collapsed": true
   },
   "outputs": [],
   "source": [
    "do.sort_values('inventory number', inplace=True)"
   ]
  },
  {
   "cell_type": "code",
   "execution_count": null,
   "metadata": {
    "collapsed": false
   },
   "outputs": [],
   "source": [
    "do"
   ]
  },
  {
   "cell_type": "code",
   "execution_count": null,
   "metadata": {
    "collapsed": false
   },
   "outputs": [],
   "source": [
    "desired_output"
   ]
  },
  {
   "cell_type": "code",
   "execution_count": null,
   "metadata": {
    "collapsed": true
   },
   "outputs": [],
   "source": []
  }
 ],
 "metadata": {
  "kernelspec": {
   "display_name": "Python 2",
   "language": "python",
   "name": "python2"
  },
  "language_info": {
   "codemirror_mode": {
    "name": "ipython",
    "version": 2
   },
   "file_extension": ".py",
   "mimetype": "text/x-python",
   "name": "python",
   "nbconvert_exporter": "python",
   "pygments_lexer": "ipython2",
   "version": "2.7.11"
  }
 },
 "nbformat": 4,
 "nbformat_minor": 0
}
