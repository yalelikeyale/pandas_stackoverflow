{
 "cells": [
  {
   "cell_type": "code",
   "execution_count": null,
   "metadata": {
    "collapsed": true
   },
   "outputs": [],
   "source": [
    "#Answer 1:\n",
    "    #with transform\n",
    "df.groupby('order')['ext price'].sum().transform(lambda x: x/(df['ext price'].sum()))\n",
    "    #with apply\n",
    "df.groupby('order')['ext price'].sum().apply(lambda x: x/ df['ext price'].sum())"
   ]
  },
  {
   "cell_type": "code",
   "execution_count": null,
   "metadata": {
    "collapsed": true
   },
   "outputs": [],
   "source": [
    "#Answer 2:\n",
    "#approach w/o using transform\n",
    "sku_total = df.groupby(['order','sku'])['ext price'].sum().rename('sku_total').reset_index()\n",
    "sku_total['sku_total'].update(sku_total['sku_total']/sku_total['order'].map(sku_total.groupby('order')['sku_total'].sum()))"
   ]
  }
 ],
 "metadata": {
  "kernelspec": {
   "display_name": "Python 2",
   "language": "python",
   "name": "python2"
  },
  "language_info": {
   "codemirror_mode": {
    "name": "ipython",
    "version": 2
   },
   "file_extension": ".py",
   "mimetype": "text/x-python",
   "name": "python",
   "nbconvert_exporter": "python",
   "pygments_lexer": "ipython2",
   "version": "2.7.11"
  }
 },
 "nbformat": 4,
 "nbformat_minor": 0
}
