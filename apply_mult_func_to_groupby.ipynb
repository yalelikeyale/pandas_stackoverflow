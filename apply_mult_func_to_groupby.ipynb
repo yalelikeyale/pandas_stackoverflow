{
 "cells": [
  {
   "cell_type": "code",
   "execution_count": 1,
   "metadata": {
    "collapsed": false
   },
   "outputs": [],
   "source": [
    "import pandas as pd\n",
    "import numpy as np"
   ]
  },
  {
   "cell_type": "code",
   "execution_count": null,
   "metadata": {
    "collapsed": true
   },
   "outputs": [],
   "source": [
    "data = {\"index\":{\"0\":1692,\"1\":1771,\"2\":1007,\"3\":2915,\"4\":1416},\n",
    "\"item_number\":{\"0\":\"123\",\"1\":\"123\",\"2\":\"124\",\"3\":\"124\",\"4\":\"125\"},\n",
    "\"brand\":{\"0\":\"brand1\",\"1\":\"brand1\",\"2\":\"brand2\",\"3\":\"brand2\",\"4\":\"brand3\"},\n",
    "\"price\":{\"0\":20.00,\"1\":20.00,\"2\":25.00,\"3\":25.00,\"4\":30.00},\n",
    "\"comp_id\":{\"0\":1,\"1\":2,\"2\":1,\"3\":3,\"4\":2},\n",
    "\"comp\":{\"0\":\"comp1\",\"1\":\"comp2\",\"2\":\"comp1\",\"3\":\"comp3\",\"4\":\"comp2\"},\n",
    "\"comp_price\":{\"0\":21.00,\"1\":20.99,\"2\":16.00,\"3\":15.99,\"4\":29.99}}\n",
    "df1 = pd.DataFrame(data=data)\n",
    "\n",
    "g = df1.groupby('brand')\n",
    "v = df1[df1['price']>df1['comp_price']].groupby('brand')"
   ]
  },
  {
   "cell_type": "code",
   "execution_count": 7,
   "metadata": {
    "collapsed": false
   },
   "outputs": [
    {
     "data": {
      "text/html": [
       "<div>\n",
       "<style>\n",
       "    .dataframe thead tr:only-child th {\n",
       "        text-align: right;\n",
       "    }\n",
       "\n",
       "    .dataframe thead th {\n",
       "        text-align: left;\n",
       "    }\n",
       "\n",
       "    .dataframe tbody tr th {\n",
       "        vertical-align: top;\n",
       "    }\n",
       "</style>\n",
       "<table border=\"1\" class=\"dataframe\">\n",
       "  <thead>\n",
       "    <tr style=\"text-align: right;\">\n",
       "      <th></th>\n",
       "      <th>item_number</th>\n",
       "      <th>comp_id</th>\n",
       "      <th>item_number</th>\n",
       "      <th>comp_id</th>\n",
       "    </tr>\n",
       "  </thead>\n",
       "  <tbody>\n",
       "    <tr>\n",
       "      <th>brand1</th>\n",
       "      <td>1</td>\n",
       "      <td>2</td>\n",
       "      <td>NaN</td>\n",
       "      <td>NaN</td>\n",
       "    </tr>\n",
       "    <tr>\n",
       "      <th>brand2</th>\n",
       "      <td>1</td>\n",
       "      <td>2</td>\n",
       "      <td>1.0</td>\n",
       "      <td>2.0</td>\n",
       "    </tr>\n",
       "    <tr>\n",
       "      <th>brand3</th>\n",
       "      <td>1</td>\n",
       "      <td>1</td>\n",
       "      <td>1.0</td>\n",
       "      <td>1.0</td>\n",
       "    </tr>\n",
       "  </tbody>\n",
       "</table>\n",
       "</div>"
      ],
      "text/plain": [
       "        item_number  comp_id  item_number  comp_id\n",
       "brand1            1        2          NaN      NaN\n",
       "brand2            1        2          1.0      2.0\n",
       "brand3            1        1          1.0      1.0"
      ]
     },
     "execution_count": 7,
     "metadata": {},
     "output_type": "execute_result"
    }
   ],
   "source": [
    "f1 = lambda x: len(x.unique())\n",
    "f = {'item_number':f1, 'comp_id':f1}\n",
    "pd.concat([g.agg(f),v.agg(f)], axis=1)"
   ]
  },
  {
   "cell_type": "code",
   "execution_count": 2,
   "metadata": {
    "collapsed": false
   },
   "outputs": [
    {
     "data": {
      "text/html": [
       "<div>\n",
       "<style>\n",
       "    .dataframe thead tr:only-child th {\n",
       "        text-align: right;\n",
       "    }\n",
       "\n",
       "    .dataframe thead th {\n",
       "        text-align: left;\n",
       "    }\n",
       "\n",
       "    .dataframe tbody tr th {\n",
       "        vertical-align: top;\n",
       "    }\n",
       "</style>\n",
       "<table border=\"1\" class=\"dataframe\">\n",
       "  <thead>\n",
       "    <tr style=\"text-align: right;\">\n",
       "      <th></th>\n",
       "      <th>brand</th>\n",
       "      <th>comp</th>\n",
       "      <th>comp_id</th>\n",
       "      <th>comp_price</th>\n",
       "      <th>index</th>\n",
       "      <th>item_number</th>\n",
       "      <th>price</th>\n",
       "    </tr>\n",
       "  </thead>\n",
       "  <tbody>\n",
       "    <tr>\n",
       "      <th>0</th>\n",
       "      <td>brand1</td>\n",
       "      <td>comp1</td>\n",
       "      <td>1</td>\n",
       "      <td>21.00</td>\n",
       "      <td>1692</td>\n",
       "      <td>123</td>\n",
       "      <td>20.0</td>\n",
       "    </tr>\n",
       "    <tr>\n",
       "      <th>1</th>\n",
       "      <td>brand1</td>\n",
       "      <td>comp2</td>\n",
       "      <td>2</td>\n",
       "      <td>20.99</td>\n",
       "      <td>1771</td>\n",
       "      <td>123</td>\n",
       "      <td>20.0</td>\n",
       "    </tr>\n",
       "    <tr>\n",
       "      <th>2</th>\n",
       "      <td>brand2</td>\n",
       "      <td>comp1</td>\n",
       "      <td>1</td>\n",
       "      <td>16.00</td>\n",
       "      <td>1007</td>\n",
       "      <td>124</td>\n",
       "      <td>25.0</td>\n",
       "    </tr>\n",
       "    <tr>\n",
       "      <th>3</th>\n",
       "      <td>brand2</td>\n",
       "      <td>comp3</td>\n",
       "      <td>3</td>\n",
       "      <td>15.99</td>\n",
       "      <td>2915</td>\n",
       "      <td>124</td>\n",
       "      <td>25.0</td>\n",
       "    </tr>\n",
       "    <tr>\n",
       "      <th>4</th>\n",
       "      <td>brand3</td>\n",
       "      <td>comp2</td>\n",
       "      <td>2</td>\n",
       "      <td>29.99</td>\n",
       "      <td>1416</td>\n",
       "      <td>125</td>\n",
       "      <td>30.0</td>\n",
       "    </tr>\n",
       "  </tbody>\n",
       "</table>\n",
       "</div>"
      ],
      "text/plain": [
       "    brand   comp  comp_id  comp_price  index item_number  price\n",
       "0  brand1  comp1        1       21.00   1692         123   20.0\n",
       "1  brand1  comp2        2       20.99   1771         123   20.0\n",
       "2  brand2  comp1        1       16.00   1007         124   25.0\n",
       "3  brand2  comp3        3       15.99   2915         124   25.0\n",
       "4  brand3  comp2        2       29.99   1416         125   30.0"
      ]
     },
     "execution_count": 2,
     "metadata": {},
     "output_type": "execute_result"
    }
   ],
   "source": [
    "df1"
   ]
  },
  {
   "cell_type": "code",
   "execution_count": 4,
   "metadata": {
    "collapsed": false
   },
   "outputs": [
    {
     "data": {
      "text/html": [
       "<div>\n",
       "<style>\n",
       "    .dataframe thead tr:only-child th {\n",
       "        text-align: right;\n",
       "    }\n",
       "\n",
       "    .dataframe thead th {\n",
       "        text-align: left;\n",
       "    }\n",
       "\n",
       "    .dataframe tbody tr th {\n",
       "        vertical-align: top;\n",
       "    }\n",
       "</style>\n",
       "<table border=\"1\" class=\"dataframe\">\n",
       "  <thead>\n",
       "    <tr style=\"text-align: right;\">\n",
       "      <th></th>\n",
       "      <th></th>\n",
       "      <th>comp_id</th>\n",
       "      <th>comp_price</th>\n",
       "      <th>index</th>\n",
       "      <th>item_number</th>\n",
       "      <th>price</th>\n",
       "    </tr>\n",
       "    <tr>\n",
       "      <th>brand</th>\n",
       "      <th>comp</th>\n",
       "      <th></th>\n",
       "      <th></th>\n",
       "      <th></th>\n",
       "      <th></th>\n",
       "      <th></th>\n",
       "    </tr>\n",
       "  </thead>\n",
       "  <tbody>\n",
       "    <tr>\n",
       "      <th rowspan=\"2\" valign=\"top\">brand1</th>\n",
       "      <th>comp1</th>\n",
       "      <td>1</td>\n",
       "      <td>1</td>\n",
       "      <td>1</td>\n",
       "      <td>1</td>\n",
       "      <td>1</td>\n",
       "    </tr>\n",
       "    <tr>\n",
       "      <th>comp2</th>\n",
       "      <td>1</td>\n",
       "      <td>1</td>\n",
       "      <td>1</td>\n",
       "      <td>1</td>\n",
       "      <td>1</td>\n",
       "    </tr>\n",
       "    <tr>\n",
       "      <th rowspan=\"2\" valign=\"top\">brand2</th>\n",
       "      <th>comp1</th>\n",
       "      <td>1</td>\n",
       "      <td>1</td>\n",
       "      <td>1</td>\n",
       "      <td>1</td>\n",
       "      <td>1</td>\n",
       "    </tr>\n",
       "    <tr>\n",
       "      <th>comp3</th>\n",
       "      <td>1</td>\n",
       "      <td>1</td>\n",
       "      <td>1</td>\n",
       "      <td>1</td>\n",
       "      <td>1</td>\n",
       "    </tr>\n",
       "    <tr>\n",
       "      <th>brand3</th>\n",
       "      <th>comp2</th>\n",
       "      <td>1</td>\n",
       "      <td>1</td>\n",
       "      <td>1</td>\n",
       "      <td>1</td>\n",
       "      <td>1</td>\n",
       "    </tr>\n",
       "  </tbody>\n",
       "</table>\n",
       "</div>"
      ],
      "text/plain": [
       "              comp_id  comp_price  index  item_number  price\n",
       "brand  comp                                                 \n",
       "brand1 comp1        1           1      1            1      1\n",
       "       comp2        1           1      1            1      1\n",
       "brand2 comp1        1           1      1            1      1\n",
       "       comp3        1           1      1            1      1\n",
       "brand3 comp2        1           1      1            1      1"
      ]
     },
     "execution_count": 4,
     "metadata": {},
     "output_type": "execute_result"
    }
   ],
   "source": [
    "df1.groupby(['brand','comp']).agg('count')"
   ]
  },
  {
   "cell_type": "code",
   "execution_count": null,
   "metadata": {
    "collapsed": true
   },
   "outputs": [],
   "source": []
  }
 ],
 "metadata": {
  "kernelspec": {
   "display_name": "Python 2",
   "language": "python",
   "name": "python2"
  },
  "language_info": {
   "codemirror_mode": {
    "name": "ipython",
    "version": 2
   },
   "file_extension": ".py",
   "mimetype": "text/x-python",
   "name": "python",
   "nbconvert_exporter": "python",
   "pygments_lexer": "ipython2",
   "version": "2.7.11"
  }
 },
 "nbformat": 4,
 "nbformat_minor": 0
}
