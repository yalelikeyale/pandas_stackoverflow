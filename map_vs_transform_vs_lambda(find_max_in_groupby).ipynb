{
 "cells": [
  {
   "cell_type": "code",
   "execution_count": 1,
   "metadata": {
    "collapsed": true
   },
   "outputs": [],
   "source": [
    "import pandas as pd\n",
    "import numpy as np\n",
    "\n",
    "#agg - Takes one or more functions. Each function is expected to be an aggregation function. Meaning each function is applied to each column and is expected to return a single value that replaces the entire column. Examples would be 'mean' or 'max'. Both of those take a set of data and return a scalar.\n",
    "#transform - Takes one function that is expected to be applied to a column and return a column of equal size\n",
    "#applymap - This takes a function and returns a new dataframe with the results of that function being applied to the value in each cell and replacing the value of the cell with the result\n",
    "#apply - pandas attempts to figure out if apply is reducing the dimensionality of the column it was operating on (aka, aggregation) or if it is transforming the column into another column of equal size. When it figures it out, it runs the remainder of the operation as if it were an aggregation or transform procedure."
   ]
  },
  {
   "cell_type": "code",
   "execution_count": null,
   "metadata": {
    "collapsed": true
   },
   "outputs": [],
   "source": [
    "data = {\"query\":{\"0\":\"playstation 4\",\"1\":\"playstation 4\",\"2\":\"playstation 4\",\"3\":\"playstation 4\",\"4\":\"playstation 4\",\"5\":\"playstation 4\",\"6\":\"playstation 4\",\"7\":\"playstation 4\",\"8\":\"playstation 4\",\"9\":\"playstation 4\",\"10\":\"playstation 4\",\"11\":\"playstation 4\",\"12\":\"playstation 4\",\"13\":\"playstation 4\",\"14\":\"playstation 4\",\"15\":\"playstation 4\",\"16\":\"playstation 4\",\"17\":\"playstation 4\",\"18\":\"playstation 4\",\"19\":\"playstation 4\",\"20\":\"playstation 4\",\"21\":\"playstation 4\",\"22\":\"playstation 4\",\"23\":\"playstation 4\",\"24\":\"playstation 4\",\"25\":\"eye cream\",\"26\":\"eye cream\",\"27\":\"eye cream\",\"28\":\"eye cream\",\"29\":\"eye cream\",\"30\":\"eye cream\",\"31\":\"eye cream\",\"32\":\"eye cream\",\"33\":\"eye cream\",\"34\":\"eye cream\",\"35\":\"eye cream\",\"36\":\"eye cream\",\"37\":\"eye cream\",\"38\":\"eye cream\",\"39\":\"eye cream\",\"40\":\"eye cream\",\"41\":\"eye cream\",\"42\":\"eye cream\",\"43\":\"eye cream\",\"44\":\"eye cream\",\"45\":\"eye cream\",\"46\":\"eye cream\",\"47\":\"eye cream\",\"48\":\"eye cream\",\"49\":\"eye cream\",\"50\":\"routers\",\"51\":\"routers\",\"52\":\"routers\",\"53\":\"routers\",\"54\":\"routers\",\"55\":\"routers\",\"56\":\"routers\",\"57\":\"routers\",\"58\":\"routers\",\"59\":\"routers\",\"60\":\"routers\",\"61\":\"routers\",\"62\":\"routers\",\"63\":\"routers\",\"64\":\"routers\",\"65\":\"routers\",\"66\":\"routers\",\"67\":\"routers\",\"68\":\"routers\",\"69\":\"routers\",\"70\":\"routers\",\"71\":\"routers\",\"72\":\"routers\",\"73\":\"routers\",\"74\":\"routers\",\"75\":\"shaver panasonic\",\"76\":\"shaver panasonic\",\"77\":\"shaver panasonic\",\"78\":\"shaver panasonic\",\"79\":\"shaver panasonic\",\"80\":\"shaver panasonic\",\"81\":\"shaver panasonic\",\"82\":\"shaver panasonic\",\"83\":\"shaver panasonic\",\"84\":\"shaver panasonic\",\"85\":\"shaver panasonic\",\"86\":\"shaver panasonic\",\"87\":\"shaver panasonic\",\"88\":\"shaver panasonic\",\"89\":\"shaver panasonic\",\"90\":\"shaver panasonic\",\"91\":\"shaver panasonic\",\"92\":\"shaver panasonic\",\"93\":\"shaver panasonic\",\"94\":\"shaver panasonic\",\"95\":\"shaver panasonic\",\"96\":\"shaver panasonic\",\"97\":\"shaver panasonic\",\"98\":\"shaver panasonic\",\"99\":\"shaver panasonic\"},\"product_link\":{\"0\":\"http:\\\\/\\\\/www.ebay.com\\\\/itm\\\\/Sony-PlayStation-4-PS4-Latest-Model-500-GB-Jet-Black-Console-\\\\/321459436277?pt=LH_DefaultDomain_0&hash=item4ad879baf5\",\"1\":\"http:\\\\/\\\\/www.ebay.com\\\\/itm\\\\/Sony-PlayStation-4-Latest-Model-500-GB-Jet-Black-Console-\\\\/131467224962?pt=LH_DefaultDomain_0&hash=item1e9c0ea782\",\"2\":\"http:\\\\/\\\\/www.ebay.com\\\\/itm\\\\/Sony-PlayStation-4-PS4-500-GB-Jet-Black-Console-\\\\/171564913575?pt=LH_DefaultDomain_0&hash=item27f210d3a7\",\"3\":\"http:\\\\/\\\\/www.ebay.com\\\\/itm\\\\/Sony-PlayStation-4-500GB-The-Last-of-Us-Remastered-Bundle-Black-\\\\/261867581805?pt=LH_DefaultDomain_0&hash=item3cf886316d\",\"4\":\"http:\\\\/\\\\/www.ebay.com\\\\/itm\\\\/Sony-PlayStation-4-PS4-Latest-Model-500-GB-Jet-Black-Console-\\\\/121512215166?pt=LH_DefaultDomain_0&hash=item1c4ab1427e\",\"5\":\"http:\\\\/\\\\/www.ebay.com\\\\/itm\\\\/Sony-PlayStation-4-PS4-Latest-Model-500-GB-Jet-Black-Console-\\\\/321739452651?pt=LH_DefaultDomain_0&hash=item4ae92a70eb\",\"6\":\"http:\\\\/\\\\/www.ebay.com\\\\/itm\\\\/BRAND-NEW-Sony-PlayStation-4-BUNDLE-500gb-\\\\/281672602591?pt=LH_DefaultDomain_0&hash=item4194fed3df\",\"7\":\"http:\\\\/\\\\/www.ebay.com\\\\/itm\\\\/Sony-PlayStation-4-500GB-Dualshock-Wireless-Control-HDMI-Gaming-Console-Refurb-\\\\/291398220855?pt=LH_DefaultDomain_0&hash=item43d8affc37\",\"8\":\"http:\\\\/\\\\/www.ebay.com\\\\/itm\\\\/Sony-PlayStation-4-Latest-Model-500-GB-Jet-Black-Console-w-2-Controllers-\\\\/191563117865?pt=LH_DefaultDomain_0&hash=item2c9a0d3529\",\"9\":\"http:\\\\/\\\\/www.ebay.com\\\\/itm\\\\/Sony-PlayStation-4-Latest-Model-500-GB-Jet-Black-Console-NEW-\\\\/191323651417?pt=LH_DefaultDomain_0&hash=item2c8bc73d59\",\"10\":\"http:\\\\/\\\\/www.ebay.com\\\\/itm\\\\/Sony-PlayStation-4-Latest-Model-500-GB-Jet-Black-Console-wth-Mortal-Kombat-X-\\\\/261867577701?pt=LH_DefaultDomain_0&hash=item3cf8862165\",\"11\":\"http:\\\\/\\\\/www.ebay.com\\\\/itm\\\\/Genuine-SONY-PS4-Playstation-4-500GB-Gaming-Console-Black-\\\\/281675418359?pt=LH_DefaultDomain_0&hash=item419529caf7\",\"12\":\"http:\\\\/\\\\/www.ebay.com\\\\/itm\\\\/Sony-Playstation-4-PS4-Video-Game-Console-Black-Latest-Model-\\\\/221619727695?pt=LH_DefaultDomain_0&hash=item339990ad4f\",\"13\":\"http:\\\\/\\\\/www.ebay.com\\\\/itm\\\\/Sony-PlayStation-4-Latest-Model-500-GB-Jet-Black-Console-\\\\/121492378177?pt=LH_DefaultDomain_0&hash=item1c49829241\",\"14\":\"http:\\\\/\\\\/www.ebay.com\\\\/itm\\\\/Sony-PlayStation-4-500-GB-Jet-Black-Console-WITH-LAST-OF-US-REMASTERED-\\\\/181703768765?pt=LH_DefaultDomain_2&hash=item2a4e637abd\",\"15\":\"http:\\\\/\\\\/www.ebay.com\\\\/itm\\\\/Sony-PlayStation-4-Latest-Model-500-GB-Jet-Black-Console-\\\\/321739448586?pt=LH_DefaultDomain_0&hash=item4ae92a610a\",\"16\":\"http:\\\\/\\\\/www.ebay.com\\\\/itm\\\\/Sony-PlayStation-4-Latest-Model-500-GB-Jet-Black-Console-\\\\/281668431061?pt=LH_DefaultDomain_0&hash=item4194bf2cd5\",\"17\":\"http:\\\\/\\\\/www.ebay.com\\\\/itm\\\\/Sony-PlayStation-4-500-GB-Jet-Black-Console-3-controllers-3-games-included-\\\\/141650033710?pt=LH_DefaultDomain_0&hash=item20fafffc2e\",\"18\":\"http:\\\\/\\\\/www.ebay.com\\\\/itm\\\\/Sony-PlayStation-4-500GB-Console-with-2-Controllers-\\\\/181674777653?pt=LH_DefaultDomain_0&hash=item2a4ca91c35\",\"19\":\"http:\\\\/\\\\/www.ebay.com\\\\/itm\\\\/Sony-PlayStation-4-500GB-The-Last-of-Us-Remastered-Bundle-Black-\\\\/271852505826?pt=LH_DefaultDomain_0&hash=item3f4bac0ae2\",\"20\":\"http:\\\\/\\\\/www.ebay.com\\\\/itm\\\\/Sony-PlayStation-4-Latest-Model-500-GB-Jet-Black-Console-\\\\/191567367225?pt=LH_DefaultDomain_0&hash=item2c9a4e0c39\",\"21\":\"http:\\\\/\\\\/www.ebay.com\\\\/itm\\\\/Sony-PlayStation-4-Latest-Model-500-GB-Jet-Black-Console-\\\\/261868106780?pt=LH_DefaultDomain_0&hash=item3cf88e341c\",\"22\":\"http:\\\\/\\\\/www.ebay.com\\\\/itm\\\\/Sony-PlayStation-4-Latest-Model-500-GB-Jet-Black-Console-\\\\/131492408652?pt=LH_DefaultDomain_0&hash=item1e9d8eed4c\",\"23\":\"http:\\\\/\\\\/www.ebay.com\\\\/itm\\\\/Sony-PlayStation-4-Latest-Model-500-GB-Jet-Black-Console-\\\\/251935643425?pt=LH_DefaultDomain_0&hash=item3aa888d721\",\"24\":\"http:\\\\/\\\\/www.ebay.com\\\\/itm\\\\/Sony-Playstation-4-PS4-1105A-Video-Game-Console-500GB-White-Latest-Model-\\\\/331397300323?pt=LH_DefaultDomain_0&hash=item4d28d18063\",\"25\":\"http:\\\\/\\\\/www.ebay.com\\\\/itm\\\\/NEW-Clinique-Repairwear-Laser-Focus-Wrinkle-Correcting-Eye-Cream-5ml-\\\\/141015736665?pt=LH_DefaultDomain_0&hash=item20d5316159\",\"26\":\"http:\\\\/\\\\/www.ebay.com\\\\/itm\\\\/Obagi-Elastiderm-Eye-Treatment-Cream-0-5-oz-15g-Authentic-NiB-Sealed-5-\\\\/121451624128?pt=LH_DefaultDomain_0&hash=item1c4714b6c0\",\"27\":\"http:\\\\/\\\\/www.ebay.com\\\\/itm\\\\/Lancome-Renergie-Eye-Anti-Wrinkle-Firming-Eye-Cream-0-5oz-New-\\\\/231520361001?pt=LH_DefaultDomain_0&hash=item35e7b05a29\",\"28\":\"http:\\\\/\\\\/www.ebay.com\\\\/itm\\\\/OZ-Naturals-The-BEST-Eye-Gel-Eye-Cream-For-Dark-Circles-Puffiness-and-\\\\/251819088513?pt=LH_DefaultDomain_0&hash=item3aa1965a81\",\"29\":\"http:\\\\/\\\\/www.ebay.com\\\\/itm\\\\/Elastiderm-Eye-Cream-0-5oz-15g-\\\\/271852609134?pt=LH_DefaultDomain_0&hash=item3f4bad9e6e\",\"30\":\"http:\\\\/\\\\/www.ebay.com\\\\/itm\\\\/new-CLINIQUE-Repairwear-Laser-Focus-Wrinkle-Correcting-Eye-Cream-0-17-oz-5-ml-\\\\/151418586012?pt=LH_DefaultDomain_0&hash=item234140439c\",\"31\":\"http:\\\\/\\\\/www.ebay.com\\\\/itm\\\\/NIB-Full-Size-Dermalogica-Multivitamin-Power-Firm-Eye-Cream-\\\\/331534991663?pt=LH_DefaultDomain_0&hash=item4d3106812f\",\"32\":\"http:\\\\/\\\\/www.ebay.com\\\\/itm\\\\/24K-Gold-Collagen-Anti-Dark-Circles-Anti-Aging-Bio-Essence-Repairing-Eye-Cream-\\\\/171439126019?pt=LH_DefaultDomain_0&hash=item27ea917603\",\"33\":\"http:\\\\/\\\\/www.ebay.com\\\\/itm\\\\/Clinique-Repairwear-Laser-Focus-Wrinkle-Correcting-Eye-Cream-Full-Size-5oz-15mL-\\\\/291408235326?pt=LH_DefaultDomain_0&hash=item43d948cb3e\",\"34\":\"http:\\\\/\\\\/www.ebay.com\\\\/itm\\\\/NEW-Clinique-Repairwear-Laser-Focus-Wrinkle-Correcting-Eye-Cream-5ml-\\\\/141643099643?pt=LH_DefaultDomain_0&hash=item20fa962dfb\",\"35\":\"http:\\\\/\\\\/www.ebay.com\\\\/itm\\\\/3-Clinique-Repairwear-Laser-Focus-Wrinkle-Correcting-Eye-Cream-17-oz-5-ml-Each-\\\\/271850259596?pt=LH_DefaultDomain_0&hash=item3f4b89c48c\",\"36\":\"http:\\\\/\\\\/www.ebay.com\\\\/itm\\\\/Lancome-High-Resolution-Eye-Cream-95-Oz-Refill-3X-25-Oz-Plus-20-Oz-Lot-\\\\/161679604684?pt=LH_DefaultDomain_0&hash=item25a4dafbcc\",\"37\":\"http:\\\\/\\\\/www.ebay.com\\\\/itm\\\\/NEW-Clinique-Repairwear-Laser-Focus-Wrinkle-Correcting-Eye-Cream-5ml-\\\\/251936161971?pt=LH_DefaultDomain_0&hash=item3aa890c0b3\",\"38\":\"http:\\\\/\\\\/www.ebay.com\\\\/itm\\\\/Neutrogena-Rapid-Wrinkle-Repair-Eye-Cream-0-5-Oz-New-\\\\/221755779183?pt=LH_DefaultDomain_0&hash=item33a1aca86f\",\"39\":\"http:\\\\/\\\\/www.ebay.com\\\\/itm\\\\/20g-Snail-Repair-Eye-Cream-Natural-Anti-Dark-Circles-Puffiness-Aging-Wrinkles-\\\\/400900136107?pt=LH_DefaultDomain_0&hash=item5d57829cab\",\"40\":\"http:\\\\/\\\\/www.ebay.com\\\\/itm\\\\/Vichy-Neovadiol-GF-Eye-Lip-Contour-Cream-0-5-Fl-Oz-\\\\/141643942775?pt=LH_DefaultDomain_0&hash=item20faa30b77\",\"41\":\"http:\\\\/\\\\/www.ebay.com\\\\/itm\\\\/Obagi-Elastiderm-Eye-Cream-0-5-oz-New-In-Box-100-Authentic-New-Packaging-\\\\/331533153857?pt=LH_DefaultDomain_0&hash=item4d30ea7641\",\"42\":\"http:\\\\/\\\\/www.ebay.com\\\\/itm\\\\/NEW-Clinique-Repairwear-Laser-Focus-Wrinkle-Correcting-Eye-Cream-17oz-5ml-\\\\/231504943626?pt=LH_DefaultDomain_0&hash=item35e6c51a0a\",\"43\":\"http:\\\\/\\\\/www.ebay.com\\\\/itm\\\\/Kiehls-CREAMY-EYE-TREATMENT-cream-with-AVOCADO-0-5-oz-FULL-SIZE-\\\\/291442921806?pt=LH_DefaultDomain_0&hash=item43db5a114e\",\"44\":\"http:\\\\/\\\\/www.ebay.com\\\\/itm\\\\/Clinique-repairwear-laser-focus-wrinkle-correcting-eye-cream-5-oz-15ml-\\\\/171757581139?pt=LH_DefaultDomain_0&hash=item27fd8cb353\",\"45\":\"http:\\\\/\\\\/www.ebay.com\\\\/itm\\\\/Caudalie-Premier-Cru-The-Eye-Cream-La-Creme-New-Anti-Aging-Eye-Treatment-\\\\/271844794220?pt=LH_DefaultDomain_0&hash=item3f4b365f6c\",\"46\":\"http:\\\\/\\\\/www.ebay.com\\\\/itm\\\\/Jeunesse-Instantly-Ageless-New-Box-Of-50-Sachets-Eye-Face-Wrinkle-Cream-\\\\/191488765385?pt=LH_DefaultDomain_0&hash=item2c959eadc9\",\"47\":\"http:\\\\/\\\\/www.ebay.com\\\\/itm\\\\/VELOUR-SKIN-EYE-CREAM-5-FL-OZ-15ML-NEW-NIP-ANTI-AGING-WRINKLE-CREAM-\\\\/171762640740?pt=LH_DefaultDomain_0&hash=item27fdd9e764\",\"48\":\"http:\\\\/\\\\/www.ebay.com\\\\/itm\\\\/Shiseido-White-Lucent-Anti-Dark-Circles-Puffiness-Eye-Cream-15ml-53oz-Full-Size-\\\\/231416090984?pt=LH_DefaultDomain_0&hash=item35e1795168\",\"49\":\"http:\\\\/\\\\/www.ebay.com\\\\/itm\\\\/Murad-Resurgence-Renewing-Eye-Cream-Anti-Aging-25-oz-NEW-Dark-Circles-Wrinkle-\\\\/141647993816?pt=LH_DefaultDomain_0&hash=item20fae0dbd8\",\"50\":\"http:\\\\/\\\\/www.ebay.com\\\\/itm\\\\/D-Link-DIR-615-300Mbps-Wireless-N-Router-4-Port-w-Firewall-\\\\/221417068842?pt=LH_DefaultDomain_0&hash=item338d7c592a\",\"51\":\"http:\\\\/\\\\/www.ebay.com\\\\/itm\\\\/Triton-MOF001-2-1-4hp-dual-mode-precision-Router-New-3-day-auction-\\\\/321735833636?pt=LH_DefaultDomain_0&hash=item4ae8f33824\",\"52\":\"http:\\\\/\\\\/www.ebay.com\\\\/itm\\\\/Porter-Cable-3-1-4-HP-Five-Speed-Router-7518-Power-Tools-Routers-\\\\/181728302109?pt=LH_DefaultDomain_0&hash=item2a4fd9d41d\",\"53\":\"http:\\\\/\\\\/www.ebay.com\\\\/itm\\\\/Linksys-EA6900-AC1900-Wi-Fi-Wireless-Router-Dual-Band-with-Gigabit-USB-3-0-Port-\\\\/301378755139?pt=LH_DefaultDomain_0&hash=item462b92da43\",\"54\":\"http:\\\\/\\\\/www.ebay.com\\\\/itm\\\\/Linksys-EA6500-1300-Mbps-4-Port-Gigabit-Wireless-AC-Router-\\\\/261859894284?pt=LH_DefaultDomain_0&hash=item3cf810e40c\",\"55\":\"http:\\\\/\\\\/www.ebay.com\\\\/itm\\\\/Makita-RT0700CX3-1-1-4-Horsepower-Compact-Router-Kit-Trimmer-NEW-\\\\/331535015609?pt=LH_DefaultDomain_0&hash=item4d3106deb9\",\"56\":\"http:\\\\/\\\\/www.ebay.com\\\\/itm\\\\/NETGEAR-R6250-AC1600-Smart-WiFi-Dual-Band-Gigabit-Router-802-11ac-300-1300-Mbps-\\\\/331538466703?pt=LH_DefaultDomain_0&hash=item4d313b878f\",\"57\":\"http:\\\\/\\\\/www.ebay.com\\\\/itm\\\\/NETGEAR-Nighthawk-AC1900-Dual-Band-Wi-Fi-Gigabit-Router-R7000-BRAND-NEW-SEALED-\\\\/131493764346?pt=LH_DefaultDomain_0&hash=item1e9da39cfa\",\"58\":\"http:\\\\/\\\\/www.ebay.com\\\\/itm\\\\/Netgear-WNDR3400-N600-Wireless-Dual-Band-Router-WNDR3400-100-\\\\/171742747875?pt=LH_DefaultDomain_0&hash=item27fcaa5ce3\",\"59\":\"http:\\\\/\\\\/www.ebay.com\\\\/itm\\\\/Netgear-N600-300-Mbps-4-Port-10-100-Wireless-N-Router-WNDR3400-\\\\/321732099037?pt=LH_DefaultDomain_0&hash=item4ae8ba3bdd\",\"60\":\"http:\\\\/\\\\/www.ebay.com\\\\/itm\\\\/NETGEAR-N600-WNDR3400-Wireless-Dual-Band-Router-F-S-\\\\/371314644524?pt=LH_DefaultDomain_0&hash=item567413d62c\",\"61\":\"http:\\\\/\\\\/www.ebay.com\\\\/itm\\\\/Netgear-NIGHTHAWK-AC1900-1300-Mbps-4-Port-Gigabit-Wireless-AC-Router-R7000-\\\\/111655240550?pt=LH_DefaultDomain_0&hash=item19ff2bc366\",\"62\":\"http:\\\\/\\\\/www.ebay.com\\\\/itm\\\\/Netgear-N900-450-Mbps-4-Port-Gigabit-Wireless-N-Router-WNDR4500-\\\\/281668416613?pt=LH_DefaultDomain_0&hash=item4194bef465\",\"63\":\"http:\\\\/\\\\/www.ebay.com\\\\/itm\\\\/Netgear-R6300V2-AC1750-1300-Mbps-4-Port-Gigabit-Wireless-AC-Router-\\\\/281672628800?pt=LH_DefaultDomain_0&hash=item4194ff3a40\",\"64\":\"http:\\\\/\\\\/www.ebay.com\\\\/itm\\\\/Makita-RT0701C-1-1-4-HP-Compact-Router-With-FACTORY-WARRANTY-\\\\/181578856229?pt=LH_DefaultDomain_0&hash=item2a46f17725\",\"65\":\"http:\\\\/\\\\/www.ebay.com\\\\/itm\\\\/CISCO-LINKSYS-EA4500-DUAL-BAND-N9000-WIRELESS-ROUTER-802-11N-UP-TO-450-MBPs-\\\\/301601427715?pt=LH_DefaultDomain_0&hash=item4638d89103\",\"66\":\"http:\\\\/\\\\/www.ebay.com\\\\/itm\\\\/Netgear-N300-v-3-300-Mbps-5-Port-10-100-Wireless-N-Router-WNR2000-\\\\/261865282319?pt=LH_DefaultDomain_0&hash=item3cf8631b0f\",\"67\":\"http:\\\\/\\\\/www.ebay.com\\\\/itm\\\\/Netgear-Nighthawk-R7000-2330-Mbps-4-Port-Gigabit-Wireless-N-Router-\\\\/261865168887?pt=LH_DefaultDomain_0&hash=item3cf8615ff7\",\"68\":\"http:\\\\/\\\\/www.ebay.com\\\\/itm\\\\/Netgear-N900-450-Mbps-4-Port-Gigabit-Wireless-N-Router-R4500-FreE-ShiPPinG-\\\\/171763023276?pt=LH_DefaultDomain_0&hash=item27fddfbdac\",\"69\":\"http:\\\\/\\\\/www.ebay.com\\\\/itm\\\\/D-Link-Wireless-Router-Model-DIR-625-\\\\/231542580777?pt=LH_DefaultDomain_0&hash=item35e9036629\",\"70\":\"http:\\\\/\\\\/www.ebay.com\\\\/itm\\\\/D-Link-DIR-657-300-Mbps-4-Port-Gigabit-Wireless-N-Router-Hd-Media-Router-1000-\\\\/111656833712?pt=LH_DefaultDomain_0&hash=item19ff4412b0\",\"71\":\"http:\\\\/\\\\/www.ebay.com\\\\/itm\\\\/D-Link-DIR-860L-AC1200-4-Port-Cloud-Router-Gigabit-Wireless-802-11-AC-\\\\/221756712042?pt=LH_DefaultDomain_0&hash=item33a1bae46a\",\"72\":\"http:\\\\/\\\\/www.ebay.com\\\\/itm\\\\/D-Link-DIR-862L-Wireless-AC1600-Dual-Band-Gigabit-Router-\\\\/321732104185?pt=LH_DefaultDomain_2&hash=item4ae8ba4ff9\",\"73\":\"http:\\\\/\\\\/www.ebay.com\\\\/itm\\\\/LINKSYS-AC1600-DUAL-BAND-SMART-WI-FI-ROUTER-EA6400-BRAND-NEW-\\\\/301604725310?pt=LH_DefaultDomain_0&hash=item46390ae23e\",\"74\":\"http:\\\\/\\\\/www.ebay.com\\\\/itm\\\\/Netgear-AC1900-1300-Mbps-4-Port-Gigabit-Wireless-AC-Router-R7000-\\\\/281674411691?pt=LH_DefaultDomain_0&hash=item41951a6eab\",\"75\":\"http:\\\\/\\\\/www.ebay.com\\\\/itm\\\\/Panasonic-ES-LA63-Cordless-Rechargeable-Mens-Electric-Shaver-\\\\/201337911294?pt=LH_DefaultDomain_0&hash=item2ee0acb7fe\",\"76\":\"http:\\\\/\\\\/www.ebay.com\\\\/itm\\\\/Panasonic-ARC-5-Best-Mens-Shaver-\\\\/111651584739?pt=LH_DefaultDomain_0&hash=item19fef3fae3\",\"77\":\"http:\\\\/\\\\/www.ebay.com\\\\/itm\\\\/Panasonic-Es8092-Wet-Dry-Electric-Razor-Shaver-Cordless-\\\\/111651556626?pt=LH_DefaultDomain_0&hash=item19fef38d12\",\"78\":\"http:\\\\/\\\\/www.ebay.com\\\\/itm\\\\/Panasonic-ARC4-ES-RF31-s-Rechargeable-Electric-Shaver-Wet-dry-4-Nanotech-Blade-\\\\/321597257608?pt=LH_DefaultDomain_0&hash=item4ae0b0b788\",\"79\":\"http:\\\\/\\\\/www.ebay.com\\\\/itm\\\\/Panasonic-ES3831K-Single-Blade-Travel-Shaver-Black-New-\\\\/351276044722?pt=LH_DefaultDomain_0&hash=item51c9af11b2\",\"80\":\"http:\\\\/\\\\/www.ebay.com\\\\/itm\\\\/Panasonic-ES8103S-Arc3-Electric-Shaver-Wet-Dry-with-Nanotech-Blades-for-Men-\\\\/221755293448?pt=LH_DefaultDomain_0&hash=item33a1a53f08\",\"81\":\"http:\\\\/\\\\/www.ebay.com\\\\/itm\\\\/Panasonic-ES8103S-Arc3-Electric-Shaver-Wet-Dry-with-Nanotech-Blades-\\\\/291427211284?pt=LH_DefaultDomain_0&hash=item43da6a5814\",\"82\":\"http:\\\\/\\\\/www.ebay.com\\\\/itm\\\\/Panasonic-ES8243A-Arc4-Electric-Shaver-Wet-Dry-missing-cleaning-brush-\\\\/121545690510?pt=LH_DefaultDomain_0&hash=item1c4cb00d8e\",\"83\":\"http:\\\\/\\\\/www.ebay.com\\\\/itm\\\\/Panasonic-Electric-Shaver-Rechargeable-Wet-Dry-Cordless-Foil-ES-RT51s-\\\\/251931974994?pt=LH_DefaultDomain_0&hash=item3aa850dd52\",\"84\":\"http:\\\\/\\\\/www.ebay.com\\\\/itm\\\\/Panasonic-ES3831K-Single-Blade-Wet-Dry-Travel-Shaver-New-Sealed-\\\\/251856984391?pt=LH_DefaultDomain_0&hash=item3aa3d89947\",\"85\":\"http:\\\\/\\\\/www.ebay.com\\\\/itm\\\\/Panasonic-ES8103S-Arc-3-E-W-O-POUCH-MANUAL-Mens-Wet-Dry-Rechargeable-Shaver-\\\\/181719323897?pt=LH_DefaultDomain_0&hash=item2a4f50d4f9\",\"86\":\"http:\\\\/\\\\/www.ebay.com\\\\/itm\\\\/PANASONIC-ES3831K-Pro-Curve-Battery-Operated-Travel-Wet-Dry-Shaver-\\\\/201264418020?pt=LH_DefaultDomain_0&hash=item2edc4b4ce4\",\"87\":\"http:\\\\/\\\\/www.ebay.com\\\\/itm\\\\/PANASONIC-ARC3-ES-LT33-S-WET-DRY-WASHABLE-RECHARGEABLE-MENS-ELECTRIC-SHAVER-NIB-\\\\/221751055080?pt=LH_DefaultDomain_0&hash=item33a16492e8\",\"88\":\"http:\\\\/\\\\/www.ebay.com\\\\/itm\\\\/Panasonic-ES-LV81-k-Arc-5-Wet-Dry-Rechargeable-Mens-Foil-Shaver-New-\\\\/221751343180?pt=LH_DefaultDomain_0&hash=item33a168f84c\",\"89\":\"http:\\\\/\\\\/www.ebay.com\\\\/itm\\\\/NEW-Panasonic-ES-RF31-S-4-Blade-Mens-Electric-Razor-Wet-Dry-Factory-Sealed-\\\\/291443144053?pt=LH_DefaultDomain_0&hash=item43db5d7575\",\"90\":\"http:\\\\/\\\\/www.ebay.com\\\\/itm\\\\/Panasonic-ES8243A-E-Arc4-Mens-Electric-Shaver-Wet-Dry-\\\\/181670746515?pt=LH_DefaultDomain_0&hash=item2a4c6b9993\",\"91\":\"http:\\\\/\\\\/www.ebay.com\\\\/itm\\\\/Panasonic-ES-3833-Wet-Dry-Men-Shaver-Razor-Battery-Operate-Compact-Travel-ES3833-\\\\/261300467953?pt=LH_DefaultDomain_0&hash=item3cd6b8b8f1\",\"92\":\"http:\\\\/\\\\/www.ebay.com\\\\/itm\\\\/Panasonic-Pro-Curve-ES3831K-Shaver-Dry-Wet-Technology-Stainless-Steel-Foil-\\\\/400907349382?pt=LH_DefaultDomain_0&hash=item5d57f0ad86\",\"93\":\"http:\\\\/\\\\/www.ebay.com\\\\/itm\\\\/Panasonic-Wet-and-Dry-Shaver-ES-RW30s-ES-RW30-S-\\\\/161543065028?pt=LH_DefaultDomain_0&hash=item259cb78dc4\",\"94\":\"http:\\\\/\\\\/www.ebay.com\\\\/itm\\\\/Panasonic-ES-LF51-A-Arc4-Electric-Shaver-Wet-Dry-with-Flexible-Pivoting-Head-\\\\/201322707162?pt=LH_DefaultDomain_0&hash=item2edfc4b8da\",\"95\":\"http:\\\\/\\\\/www.ebay.com\\\\/itm\\\\/Panasonic-ES8103S-Arc3-Mens-Electric-Shaver-Wet-Dry-with-Nanotech-Blades-\\\\/251927885898?pt=LH_DefaultDomain_0&hash=item3aa812784a\",\"96\":\"http:\\\\/\\\\/www.ebay.com\\\\/itm\\\\/panasonic-ARC3-shaver-es8103s-\\\\/331535358676?pt=LH_DefaultDomain_0&hash=item4d310c1ad4\",\"97\":\"http:\\\\/\\\\/www.ebay.com\\\\/itm\\\\/Panasonic-ES-534-Mens-Electric-Shaver-New-ES534-Battery-Operated-Compact-Travel-\\\\/261304623906?pt=LH_DefaultDomain_0&hash=item3cd6f82322\",\"98\":\"http:\\\\/\\\\/www.ebay.com\\\\/itm\\\\/Panasonic-Portable-Shaving-Machine-Cclippers-Washable-Single-Blade-Shaver-Brush-\\\\/321716684950?pt=LH_DefaultDomain_0&hash=item4ae7cf0896\",\"99\":\"http:\\\\/\\\\/www.ebay.com\\\\/itm\\\\/Panasonic-Arc3-ES-8103S-Wet-Dry-Rechargeable-Shaver-A491-\\\\/321712866709?pt=LH_DefaultDomain_0&hash=item4ae794c595\"},\"relevance\":{\"0\":3.67,\"1\":4.0,\"2\":4.0,\"3\":3.67,\"4\":3.33,\"5\":3.2,\"6\":4.0,\"7\":4.0,\"8\":3.75,\"9\":2.33,\"10\":4.0,\"11\":4.0,\"12\":3.33,\"13\":3.0,\"14\":3.4,\"15\":4.0,\"16\":2.8,\"17\":4.0,\"18\":3.0,\"19\":2.33,\"20\":4.0,\"21\":4.0,\"22\":4.0,\"23\":4.0,\"24\":4.0,\"25\":4.0,\"26\":3.4,\"27\":4.0,\"28\":3.75,\"29\":4.0,\"30\":4.0,\"31\":4.0,\"32\":4.0,\"33\":3.67,\"34\":3.75,\"35\":4.0,\"36\":4.0,\"37\":4.0,\"38\":4.0,\"39\":3.4,\"40\":3.0,\"41\":4.0,\"42\":4.0,\"43\":4.0,\"44\":4.0,\"45\":4.0,\"46\":3.67,\"47\":3.67,\"48\":4.0,\"49\":4.0,\"50\":4.0,\"51\":3.0,\"52\":2.6,\"53\":4.0,\"54\":2.33,\"55\":1.33,\"56\":4.0,\"57\":4.0,\"58\":4.0,\"59\":3.67,\"60\":3.67,\"61\":4.0,\"62\":3.75,\"63\":4.0,\"64\":2.0,\"65\":4.0,\"66\":4.0,\"67\":4.0,\"68\":4.0,\"69\":4.0,\"70\":4.0,\"71\":4.0,\"72\":4.0,\"73\":3.67,\"74\":4.0,\"75\":3.33,\"76\":2.8,\"77\":2.0,\"78\":4.0,\"79\":3.2,\"80\":2.8,\"81\":4.0,\"82\":4.0,\"83\":4.0,\"84\":4.0,\"85\":3.67,\"86\":4.0,\"87\":4.0,\"88\":3.67,\"89\":3.33,\"90\":4.0,\"91\":4.0,\"92\":3.67,\"93\":4.0,\"94\":4.0,\"95\":3.0,\"96\":4.0,\"97\":4.0,\"98\":3.4,\"99\":2.33}}\n",
    "df = pd.DataFrame(data=data)"
   ]
  },
  {
   "cell_type": "code",
   "execution_count": null,
   "metadata": {
    "collapsed": false
   },
   "outputs": [],
   "source": [
    "#you can use a lambda function to loop through each group by object and select only the rows with the max relevance value within that group\n",
    "df.groupby('query').apply(lambda x: x[x['relevance']==x['relevance'].max()])"
   ]
  },
  {
   "cell_type": "code",
   "execution_count": null,
   "metadata": {
    "collapsed": false
   },
   "outputs": [],
   "source": [
    "#transform example\n",
    "df = pd.DataFrame(np.random.randn(10, 3), columns=['A', 'B', 'C'], index=pd.date_range('1/1/2000', periods=10))\n",
    "print(df.head())\n",
    "df = df.transform(lambda x: (abs(x)))\n",
    "print(df.head())"
   ]
  },
  {
   "cell_type": "code",
   "execution_count": null,
   "metadata": {
    "collapsed": false
   },
   "outputs": [],
   "source": [
    "#stackoverlow example explaining difference between applymap, transform, and agg\n",
    "np.random.seed([3,1415])\n",
    "df = pd.DataFrame(np.random.randint(10, size=(6, 4)), columns=list('ABCD'))"
   ]
  },
  {
   "cell_type": "code",
   "execution_count": null,
   "metadata": {
    "collapsed": false
   },
   "outputs": [],
   "source": [
    "#applymap applys a function to each cell in a dataframe and replaces the value in each cell with the result of the function\n",
    "df.applymap(lambda x: str(x) * x)"
   ]
  },
  {
   "cell_type": "code",
   "execution_count": null,
   "metadata": {
    "collapsed": false
   },
   "outputs": [],
   "source": [
    "#agg expects to apply an aggregate function like min or max to each column in a dataframe, a list of functions can also be passed\n",
    "df.agg('mean')\n",
    "df.agg(['mean', 'std', 'first', 'min'])"
   ]
  },
  {
   "cell_type": "code",
   "execution_count": null,
   "metadata": {
    "collapsed": false
   },
   "outputs": [],
   "source": [
    "#transform expects to operate on a column and return a column of an equal size\n",
    "df.transform(lambda x: x / x.std())"
   ]
  },
  {
   "cell_type": "code",
   "execution_count": 1,
   "metadata": {
    "collapsed": false
   },
   "outputs": [
    {
     "ename": "NameError",
     "evalue": "name 'pd' is not defined",
     "output_type": "error",
     "traceback": [
      "\u001b[0;31m---------------------------------------------------------------------------\u001b[0m",
      "\u001b[0;31mNameError\u001b[0m                                 Traceback (most recent call last)",
      "\u001b[0;32m<ipython-input-1-a012d1eab44c>\u001b[0m in \u001b[0;36m<module>\u001b[0;34m()\u001b[0m\n\u001b[1;32m      1\u001b[0m \u001b[0;31m#mapping a pivot table to a df\u001b[0m\u001b[0;34m\u001b[0m\u001b[0;34m\u001b[0m\u001b[0m\n\u001b[0;32m----> 2\u001b[0;31m \u001b[0mdf\u001b[0m \u001b[0;34m=\u001b[0m \u001b[0mpd\u001b[0m\u001b[0;34m.\u001b[0m\u001b[0mread_csv\u001b[0m\u001b[0;34m(\u001b[0m\u001b[0;34m'test.csv'\u001b[0m\u001b[0;34m)\u001b[0m\u001b[0;34m\u001b[0m\u001b[0m\n\u001b[0m\u001b[1;32m      3\u001b[0m \u001b[0mpt1\u001b[0m \u001b[0;34m=\u001b[0m \u001b[0mpd\u001b[0m\u001b[0;34m.\u001b[0m\u001b[0mread_csv\u001b[0m\u001b[0;34m(\u001b[0m\u001b[0;34m'test1.csv'\u001b[0m\u001b[0;34m)\u001b[0m\u001b[0;34m\u001b[0m\u001b[0m\n",
      "\u001b[0;31mNameError\u001b[0m: name 'pd' is not defined"
     ]
    }
   ],
   "source": [
    "#mapping a pivot table to a df\n",
    "df = pd.read_csv('test.csv')\n",
    "pt1 = pd.read_csv('test1.csv')"
   ]
  },
  {
   "cell_type": "code",
   "execution_count": 12,
   "metadata": {
    "collapsed": false
   },
   "outputs": [
    {
     "data": {
      "text/html": [
       "<div>\n",
       "<style>\n",
       "    .dataframe thead tr:only-child th {\n",
       "        text-align: right;\n",
       "    }\n",
       "\n",
       "    .dataframe thead th {\n",
       "        text-align: left;\n",
       "    }\n",
       "\n",
       "    .dataframe tbody tr th {\n",
       "        vertical-align: top;\n",
       "    }\n",
       "</style>\n",
       "<table border=\"1\" class=\"dataframe\">\n",
       "  <thead>\n",
       "    <tr style=\"text-align: right;\">\n",
       "      <th></th>\n",
       "      <th>SubscriberKey</th>\n",
       "      <th>Inst</th>\n",
       "      <th>A1</th>\n",
       "      <th>A2</th>\n",
       "      <th>A3</th>\n",
       "      <th>A4</th>\n",
       "    </tr>\n",
       "  </thead>\n",
       "  <tbody>\n",
       "    <tr>\n",
       "      <th>0</th>\n",
       "      <td>abc</td>\n",
       "      <td>2</td>\n",
       "      <td>0</td>\n",
       "      <td>0</td>\n",
       "      <td>0</td>\n",
       "      <td>0</td>\n",
       "    </tr>\n",
       "    <tr>\n",
       "      <th>1</th>\n",
       "      <td>bcd</td>\n",
       "      <td>4</td>\n",
       "      <td>0</td>\n",
       "      <td>0</td>\n",
       "      <td>0</td>\n",
       "      <td>0</td>\n",
       "    </tr>\n",
       "    <tr>\n",
       "      <th>2</th>\n",
       "      <td>cde</td>\n",
       "      <td>1</td>\n",
       "      <td>0</td>\n",
       "      <td>0</td>\n",
       "      <td>0</td>\n",
       "      <td>0</td>\n",
       "    </tr>\n",
       "    <tr>\n",
       "      <th>3</th>\n",
       "      <td>def</td>\n",
       "      <td>0</td>\n",
       "      <td>0</td>\n",
       "      <td>0</td>\n",
       "      <td>0</td>\n",
       "      <td>0</td>\n",
       "    </tr>\n",
       "    <tr>\n",
       "      <th>4</th>\n",
       "      <td>efg</td>\n",
       "      <td>0</td>\n",
       "      <td>0</td>\n",
       "      <td>0</td>\n",
       "      <td>0</td>\n",
       "      <td>0</td>\n",
       "    </tr>\n",
       "  </tbody>\n",
       "</table>\n",
       "</div>"
      ],
      "text/plain": [
       "  SubscriberKey  Inst  A1  A2  A3  A4\n",
       "0           abc     2   0   0   0   0\n",
       "1           bcd     4   0   0   0   0\n",
       "2           cde     1   0   0   0   0\n",
       "3           def     0   0   0   0   0\n",
       "4           efg     0   0   0   0   0"
      ]
     },
     "execution_count": 12,
     "metadata": {},
     "output_type": "execute_result"
    }
   ],
   "source": [
    "df"
   ]
  },
  {
   "cell_type": "code",
   "execution_count": 13,
   "metadata": {
    "collapsed": false
   },
   "outputs": [
    {
     "data": {
      "text/html": [
       "<div>\n",
       "<style>\n",
       "    .dataframe thead tr:only-child th {\n",
       "        text-align: right;\n",
       "    }\n",
       "\n",
       "    .dataframe thead th {\n",
       "        text-align: left;\n",
       "    }\n",
       "\n",
       "    .dataframe tbody tr th {\n",
       "        vertical-align: top;\n",
       "    }\n",
       "</style>\n",
       "<table border=\"1\" class=\"dataframe\">\n",
       "  <thead>\n",
       "    <tr style=\"text-align: right;\">\n",
       "      <th></th>\n",
       "      <th>Linkname</th>\n",
       "      <th>A1</th>\n",
       "      <th>A2</th>\n",
       "      <th>A3</th>\n",
       "      <th>A4</th>\n",
       "    </tr>\n",
       "  </thead>\n",
       "  <tbody>\n",
       "    <tr>\n",
       "      <th>0</th>\n",
       "      <td>abc</td>\n",
       "      <td>2</td>\n",
       "      <td>0</td>\n",
       "      <td>2</td>\n",
       "      <td>0</td>\n",
       "    </tr>\n",
       "    <tr>\n",
       "      <th>1</th>\n",
       "      <td>bcd</td>\n",
       "      <td>4</td>\n",
       "      <td>1</td>\n",
       "      <td>1</td>\n",
       "      <td>2</td>\n",
       "    </tr>\n",
       "    <tr>\n",
       "      <th>2</th>\n",
       "      <td>cde</td>\n",
       "      <td>1</td>\n",
       "      <td>1</td>\n",
       "      <td>0</td>\n",
       "      <td>0</td>\n",
       "    </tr>\n",
       "  </tbody>\n",
       "</table>\n",
       "</div>"
      ],
      "text/plain": [
       "  Linkname  A1  A2  A3  A4\n",
       "0      abc   2   0   2   0\n",
       "1      bcd   4   1   1   2\n",
       "2      cde   1   1   0   0"
      ]
     },
     "execution_count": 13,
     "metadata": {},
     "output_type": "execute_result"
    }
   ],
   "source": [
    "pt1"
   ]
  },
  {
   "cell_type": "code",
   "execution_count": 5,
   "metadata": {
    "collapsed": false
   },
   "outputs": [
    {
     "data": {
      "text/html": [
       "<div>\n",
       "<style>\n",
       "    .dataframe thead tr:only-child th {\n",
       "        text-align: right;\n",
       "    }\n",
       "\n",
       "    .dataframe thead th {\n",
       "        text-align: left;\n",
       "    }\n",
       "\n",
       "    .dataframe tbody tr th {\n",
       "        vertical-align: top;\n",
       "    }\n",
       "</style>\n",
       "<table border=\"1\" class=\"dataframe\">\n",
       "  <thead>\n",
       "    <tr style=\"text-align: right;\">\n",
       "      <th></th>\n",
       "      <th>SubscriberKey</th>\n",
       "      <th>Inst</th>\n",
       "      <th>A1</th>\n",
       "      <th>A2</th>\n",
       "      <th>A3</th>\n",
       "      <th>A4</th>\n",
       "    </tr>\n",
       "  </thead>\n",
       "  <tbody>\n",
       "    <tr>\n",
       "      <th>0</th>\n",
       "      <td>abc</td>\n",
       "      <td>2</td>\n",
       "      <td>2.0</td>\n",
       "      <td>0.0</td>\n",
       "      <td>2.0</td>\n",
       "      <td>0.0</td>\n",
       "    </tr>\n",
       "    <tr>\n",
       "      <th>1</th>\n",
       "      <td>bcd</td>\n",
       "      <td>4</td>\n",
       "      <td>4.0</td>\n",
       "      <td>1.0</td>\n",
       "      <td>1.0</td>\n",
       "      <td>2.0</td>\n",
       "    </tr>\n",
       "    <tr>\n",
       "      <th>2</th>\n",
       "      <td>cde</td>\n",
       "      <td>1</td>\n",
       "      <td>1.0</td>\n",
       "      <td>1.0</td>\n",
       "      <td>0.0</td>\n",
       "      <td>0.0</td>\n",
       "    </tr>\n",
       "    <tr>\n",
       "      <th>3</th>\n",
       "      <td>def</td>\n",
       "      <td>0</td>\n",
       "      <td>NaN</td>\n",
       "      <td>NaN</td>\n",
       "      <td>NaN</td>\n",
       "      <td>NaN</td>\n",
       "    </tr>\n",
       "    <tr>\n",
       "      <th>4</th>\n",
       "      <td>efg</td>\n",
       "      <td>0</td>\n",
       "      <td>NaN</td>\n",
       "      <td>NaN</td>\n",
       "      <td>NaN</td>\n",
       "      <td>NaN</td>\n",
       "    </tr>\n",
       "  </tbody>\n",
       "</table>\n",
       "</div>"
      ],
      "text/plain": [
       "  SubscriberKey  Inst   A1   A2   A3   A4\n",
       "0           abc     2  2.0  0.0  2.0  0.0\n",
       "1           bcd     4  4.0  1.0  1.0  2.0\n",
       "2           cde     1  1.0  1.0  0.0  0.0\n",
       "3           def     0  NaN  NaN  NaN  NaN\n",
       "4           efg     0  NaN  NaN  NaN  NaN"
      ]
     },
     "execution_count": 5,
     "metadata": {},
     "output_type": "execute_result"
    }
   ],
   "source": [
    "df[['SubscriberKey','Inst']].join(pt1.set_index('Linkname'), on='SubscriberKey')"
   ]
  },
  {
   "cell_type": "code",
   "execution_count": 6,
   "metadata": {
    "collapsed": false
   },
   "outputs": [],
   "source": [
    "pt1 = pt1.rename(columns={'Linkname':'SubscriberKey'})"
   ]
  },
  {
   "cell_type": "code",
   "execution_count": 7,
   "metadata": {
    "collapsed": true
   },
   "outputs": [],
   "source": [
    "pt1 = pt1.set_index('SubscriberKey')"
   ]
  },
  {
   "cell_type": "code",
   "execution_count": 8,
   "metadata": {
    "collapsed": false
   },
   "outputs": [],
   "source": [
    "df = df.set_index('SubscriberKey')"
   ]
  },
  {
   "cell_type": "code",
   "execution_count": 9,
   "metadata": {
    "collapsed": true
   },
   "outputs": [],
   "source": [
    "df.update(pt1)"
   ]
  },
  {
   "cell_type": "code",
   "execution_count": 10,
   "metadata": {
    "collapsed": false
   },
   "outputs": [
    {
     "data": {
      "text/html": [
       "<div>\n",
       "<style>\n",
       "    .dataframe thead tr:only-child th {\n",
       "        text-align: right;\n",
       "    }\n",
       "\n",
       "    .dataframe thead th {\n",
       "        text-align: left;\n",
       "    }\n",
       "\n",
       "    .dataframe tbody tr th {\n",
       "        vertical-align: top;\n",
       "    }\n",
       "</style>\n",
       "<table border=\"1\" class=\"dataframe\">\n",
       "  <thead>\n",
       "    <tr style=\"text-align: right;\">\n",
       "      <th></th>\n",
       "      <th>Inst</th>\n",
       "      <th>A1</th>\n",
       "      <th>A2</th>\n",
       "      <th>A3</th>\n",
       "      <th>A4</th>\n",
       "    </tr>\n",
       "    <tr>\n",
       "      <th>SubscriberKey</th>\n",
       "      <th></th>\n",
       "      <th></th>\n",
       "      <th></th>\n",
       "      <th></th>\n",
       "      <th></th>\n",
       "    </tr>\n",
       "  </thead>\n",
       "  <tbody>\n",
       "    <tr>\n",
       "      <th>abc</th>\n",
       "      <td>2</td>\n",
       "      <td>2.0</td>\n",
       "      <td>0.0</td>\n",
       "      <td>2.0</td>\n",
       "      <td>0.0</td>\n",
       "    </tr>\n",
       "    <tr>\n",
       "      <th>bcd</th>\n",
       "      <td>4</td>\n",
       "      <td>4.0</td>\n",
       "      <td>1.0</td>\n",
       "      <td>1.0</td>\n",
       "      <td>2.0</td>\n",
       "    </tr>\n",
       "    <tr>\n",
       "      <th>cde</th>\n",
       "      <td>1</td>\n",
       "      <td>1.0</td>\n",
       "      <td>1.0</td>\n",
       "      <td>0.0</td>\n",
       "      <td>0.0</td>\n",
       "    </tr>\n",
       "    <tr>\n",
       "      <th>def</th>\n",
       "      <td>0</td>\n",
       "      <td>0.0</td>\n",
       "      <td>0.0</td>\n",
       "      <td>0.0</td>\n",
       "      <td>0.0</td>\n",
       "    </tr>\n",
       "    <tr>\n",
       "      <th>efg</th>\n",
       "      <td>0</td>\n",
       "      <td>0.0</td>\n",
       "      <td>0.0</td>\n",
       "      <td>0.0</td>\n",
       "      <td>0.0</td>\n",
       "    </tr>\n",
       "  </tbody>\n",
       "</table>\n",
       "</div>"
      ],
      "text/plain": [
       "               Inst   A1   A2   A3   A4\n",
       "SubscriberKey                          \n",
       "abc               2  2.0  0.0  2.0  0.0\n",
       "bcd               4  4.0  1.0  1.0  2.0\n",
       "cde               1  1.0  1.0  0.0  0.0\n",
       "def               0  0.0  0.0  0.0  0.0\n",
       "efg               0  0.0  0.0  0.0  0.0"
      ]
     },
     "execution_count": 10,
     "metadata": {},
     "output_type": "execute_result"
    }
   ],
   "source": [
    "df"
   ]
  },
  {
   "cell_type": "code",
   "execution_count": null,
   "metadata": {
    "collapsed": false
   },
   "outputs": [],
   "source": [
    "pt1"
   ]
  },
  {
   "cell_type": "code",
   "execution_count": null,
   "metadata": {
    "collapsed": true
   },
   "outputs": [],
   "source": []
  }
 ],
 "metadata": {
  "kernelspec": {
   "display_name": "Python 2",
   "language": "python",
   "name": "python2"
  },
  "language_info": {
   "codemirror_mode": {
    "name": "ipython",
    "version": 2
   },
   "file_extension": ".py",
   "mimetype": "text/x-python",
   "name": "python",
   "nbconvert_exporter": "python",
   "pygments_lexer": "ipython2",
   "version": "2.7.11"
  }
 },
 "nbformat": 4,
 "nbformat_minor": 0
}
