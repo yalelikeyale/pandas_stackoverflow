{
 "cells": [
  {
   "cell_type": "code",
   "execution_count": 1,
   "metadata": {
    "collapsed": false
   },
   "outputs": [],
   "source": [
    "import pandas as pd\n",
    "import numpy as np"
   ]
  },
  {
   "cell_type": "code",
   "execution_count": null,
   "metadata": {
    "collapsed": false
   },
   "outputs": [],
   "source": [
    "#map example -- note -- map is only friendly with series. df object does not have a map function callable. \n",
    "pb = {\"mark_up_id\":{\"0\":\"123\",\"1\":\"456\",\"2\":\"789\",\"3\":\"111\",\"4\":\"222\"},\"mark_up\":{\"0\":1.2987,\"1\":1.5625,\"2\":1.3698,\"3\":1.3333,\"4\":1.4589}}\n",
    "data = {\"id\":{\"0\":\"K69\",\"1\":\"K70\",\"2\":\"K71\",\"3\":\"K72\",\"4\":\"K73\",\"5\":\"K74\",\"6\":\"K75\",\"7\":\"K79\",\"8\":\"K86\",\"9\":\"K100\"},\"cost\":{\"0\":29.74,\"1\":9.42,\"2\":9.42,\"3\":9.42,\"4\":9.48,\"5\":9.48,\"6\":24.36,\"7\":5.16,\"8\":9.8,\"9\":3.28},\"mark_up_id\":{\"0\":\"123\",\"1\":\"456\",\"2\":\"789\",\"3\":\"111\",\"4\":\"222\",\"5\":\"333\",\"6\":\"444\",\"7\":\"555\",\"8\":\"666\",\"9\":\"777\"}}\n",
    "\n",
    "pb = pd.DataFrame(data=pb).set_index('mark_up_id')\n",
    "df = pd.DataFrame(data=data)"
   ]
  },
  {
   "cell_type": "code",
   "execution_count": null,
   "metadata": {
    "collapsed": false
   },
   "outputs": [],
   "source": [
    "df"
   ]
  },
  {
   "cell_type": "code",
   "execution_count": null,
   "metadata": {
    "collapsed": false
   },
   "outputs": [],
   "source": [
    "pb"
   ]
  },
  {
   "cell_type": "code",
   "execution_count": null,
   "metadata": {
    "collapsed": false
   },
   "outputs": [],
   "source": [
    "df['mark_up_id'].map(pb['mark_up'])"
   ]
  },
  {
   "cell_type": "code",
   "execution_count": null,
   "metadata": {
    "collapsed": true
   },
   "outputs": [],
   "source": [
    "#by selecting a series in the dataframe df, using map, you're able to find the correlated value to each value in pb\n",
    "#so long as the index in pb corresponds to a value in the series created by df['mark_up_id']\n",
    "print(df['mark_up_id'].map(pb['mark_up']))\n",
    "\n",
    "#using insert, you can insert a series into a dataframe, so long as something like map was used so the lengths are the same\n",
    "df.insert(1,'mark_up',df['mark_up_id'].map(pb['mark_up']))\n",
    "print(df.head())\n",
    "\n",
    "#alternatively, you can use update, if a column already exists"
   ]
  },
  {
   "cell_type": "code",
   "execution_count": null,
   "metadata": {
    "collapsed": false
   },
   "outputs": [],
   "source": [
    "#example of how to perform a similar function to the above when dealing with a multi-index using join\n",
    "data = {\"uid\":{\"0\":\"abc123\",\"1\":\"abc123\",\"2\":\"abc\",\"3\":\"abc\",\"4\":\"efgh\"},\"comp_id\":{\"0\":1395,\"1\":2467,\"2\":4567,\"3\":1596,\"4\":111222},\"retailer\":{\"0\":\"Shmo\",\"1\":\"Joe\",\"2\":\"Jon\",\"3\":\"Sam\",\"4\":\"Tim\"},\"price\":{\"0\":7.49,\"1\":5.17,\"2\":89.99,\"3\":13.99,\"4\":4.98}}\n",
    "stock = {\"uid\":{\"0\":\"abc123\",\"1\":\"abc123\",\"2\":\"abc\",\"3\":\"abc\",\"4\":\"efgh\"},\"comp_id\":{\"0\":1395,\"1\":2467,\"2\":4567,\"3\":1596,\"4\":111222},\"availability\":{\"0\":\"True\",\"1\":\"True\",\"2\":\"True\",\"3\":\"True\",\"4\":\"True\"}}\n",
    "df = pd.DataFrame(data)\n",
    "s = pd.DataFrame(stock)\n",
    "s = s.set_index(['comp_id','uid'])"
   ]
  },
  {
   "cell_type": "code",
   "execution_count": null,
   "metadata": {
    "collapsed": true
   },
   "outputs": [],
   "source": [
    "#be aware of the levels of the multi-index need to line up across both data-sets\n",
    "df[['uid','comp_id']].set_index(['comp_id','uid']).join(s).values"
   ]
  },
  {
   "cell_type": "code",
   "execution_count": null,
   "metadata": {
    "collapsed": true
   },
   "outputs": [],
   "source": [
    "#then like above this array can be inserted into the dataframe\n",
    "df.insert(3,'availability', df[['uid','comp_id']].set_index(['comp_id','uid']).join(s).values)"
   ]
  },
  {
   "cell_type": "code",
   "execution_count": null,
   "metadata": {
    "collapsed": true
   },
   "outputs": [],
   "source": [
    "#map can however be used with indices that are tuples\n",
    "df = pd.DataFrame(data={'A':range(1,8), 'B':range(1,8), 'C': range(1,8)},\n",
    " index=pd.MultiIndex.from_tuples([('chrom1', '-', 1234), ('chrom1', '+', 5678),\n",
    " ('chrom1', '+', 9876),  ('chrom2', '+', 13579), ('chrom2', '+', 8497), ('chrom2', '-', 98765),\n",
    " ('chrom2', '-', 76856)]))\n",
    "\n",
    "df.index.rename(['chrom','strand','abs_pos'], inplace=True)\n",
    "gene_d = {('chrom1', '-', 1234) : 'geneA', ('chrom1', '+', 5678): 'geneB', \n",
    "    ('chrom1', '+', 9876): 'geneC', ('chrom2', '+', 13579): 'geneD',\n",
    "    ('chrom2', '+', 8497): 'geneE', ('chrom2', '-', 98765): 'geneF', \n",
    "    ('chrom2', '-', 76856): 'geneG'}"
   ]
  },
  {
   "cell_type": "code",
   "execution_count": null,
   "metadata": {
    "collapsed": true
   },
   "outputs": [],
   "source": [
    "df['gene'] = df.index #you get the index as tuple"
   ]
  },
  {
   "cell_type": "code",
   "execution_count": null,
   "metadata": {
    "collapsed": true
   },
   "outputs": [],
   "source": [
    "df['gene'] = df['gene'].map(gene_d)"
   ]
  },
  {
   "cell_type": "code",
   "execution_count": null,
   "metadata": {
    "collapsed": true
   },
   "outputs": [],
   "source": [
    "df = df.set_index('gene', append=True)"
   ]
  },
  {
   "cell_type": "code",
   "execution_count": null,
   "metadata": {
    "collapsed": true
   },
   "outputs": [],
   "source": [
    "data = {  \"sku\": {    \"0\": \"123\",    \"1\": \"321\",    \"2\": \"456\",    \"3\": \"678\",    \"4\": \"123\",    \"5\": \"321\",    \"6\": \"456\",    \"7\": \"101\",    \"8\": \"123\",    \"9\": \"101\"  },  \"retailer\": {    \"0\": \"BobStore\",    \"1\": \"BobStore\",    \"2\": \"BobStore\",    \"3\": \"BobStore\",    \"4\": \"SamStore\",    \"5\": \"SamStore\",    \"6\": \"RobStore\",    \"7\": \"SamStore\",    \"8\": \"RobStore\",    \"9\": \"BobStore\"  },  \"description\": {    \"0\": \"Jacket\",    \"1\": \"Jacket\",    \"2\": \"Jacket\",    \"3\": \"Jacket\",    \"4\": \"Jacket\",    \"5\": \"Jacket\",    \"6\": \"Jacket\",    \"7\": \"Jacket\",    \"8\": \"Jacket\",    \"9\": \"Jacket\"  },  \"price\": {    \"0\": 19.99,    \"1\": 18.99,    \"2\": 12.99,    \"3\": 15.99,    \"4\": 12.99,    \"5\": 12.99,    \"6\": 11.99,    \"7\": 19.99,    \"8\": 16.99,    \"9\": 18.99  },  \"shipping\": {    \"0\": 6.99,    \"1\": 4.99,    \"2\": 6.99,    \"3\": 3.99,    \"4\": 6.99,    \"5\": 4.99,    \"6\": 6.99,    \"7\": 9.99,    \"8\": 1.99,    \"9\": 2.99,  },  \"availability\": {    \"0\": \"True\",    \"1\": \"False\",    \"2\": \"\",    \"3\": \"\",    \"4\": \"False\",    \"5\": \"True\",    \"6\": \"\",    \"7\": \"\",    \"8\": \"\",    \"9\": \"True\"}}\n",
    "df = pd.DataFrame(data=data)"
   ]
  },
  {
   "cell_type": "code",
   "execution_count": null,
   "metadata": {
    "collapsed": true
   },
   "outputs": [],
   "source": [
    "data = {  \"sku\": {    \"0\": \"123\",    \"1\": \"101\",    \"2\": \"456\",    \"3\": \"879\",  },  \"availability\": {    \"0\": \"False\",    \"1\": \"True\",    \"2\": \"True\",    \"3\": \"True\"  }}\n",
    "bobStore = pd.DataFrame(data=data)"
   ]
  },
  {
   "cell_type": "code",
   "execution_count": null,
   "metadata": {
    "collapsed": true
   },
   "outputs": [],
   "source": [
    "\n",
    "\n",
    "\n",
    "data = {\n",
    "  \"sku\": {\n",
    "    \"0\": \"123\",\n",
    "    \"1\": \"101\",\n",
    "\n",
    "  },\n",
    "  \"availability\": {\n",
    "    \"0\": \"False\",\n",
    "    \"1\": \"True\"\n",
    "  }\n",
    "}\n",
    "samStore = pd.DataFrame(data=data)"
   ]
  },
  {
   "cell_type": "code",
   "execution_count": null,
   "metadata": {
    "collapsed": false
   },
   "outputs": [],
   "source": [
    "#update solution\n",
    "test = df.set_index(['sku','retailer'])\n",
    "bobTest = bobStore\n",
    "bobTest['retailer'] = 'BobStore'\n",
    "bobTest = bobStore.set_index(['sku','retailer'])\n",
    "test.update(bobTest)"
   ]
  },
  {
   "cell_type": "code",
   "execution_count": null,
   "metadata": {
    "collapsed": true
   },
   "outputs": [],
   "source": []
  }
 ],
 "metadata": {
  "kernelspec": {
   "display_name": "Python 2",
   "language": "python",
   "name": "python2"
  },
  "language_info": {
   "codemirror_mode": {
    "name": "ipython",
    "version": 2
   },
   "file_extension": ".py",
   "mimetype": "text/x-python",
   "name": "python",
   "nbconvert_exporter": "python",
   "pygments_lexer": "ipython2",
   "version": "2.7.11"
  }
 },
 "nbformat": 4,
 "nbformat_minor": 0
}
