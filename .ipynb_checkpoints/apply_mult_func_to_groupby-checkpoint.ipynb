{
 "cells": [
  {
   "cell_type": "code",
   "execution_count": 2,
   "metadata": {
    "collapsed": false
   },
   "outputs": [],
   "source": [
    "import pandas as pd\n",
    "import numpy as np\n",
    "\n",
    "data = {\"index\":{\"0\":1692,\"1\":1771,\"2\":1007,\"3\":2915,\"4\":1416},\n",
    "\"item_number\":{\"0\":\"123\",\"1\":\"123\",\"2\":\"124\",\"3\":\"124\",\"4\":\"125\"},\n",
    "\"brand\":{\"0\":\"brand1\",\"1\":\"brand1\",\"2\":\"brand2\",\"3\":\"brand2\",\"4\":\"brand3\"},\n",
    "\"price\":{\"0\":20.00,\"1\":20.00,\"2\":25.00,\"3\":25.00,\"4\":30.00},\n",
    "\"comp_id\":{\"0\":1,\"1\":2,\"2\":1,\"3\":3,\"4\":2},\n",
    "\"comp\":{\"0\":\"comp1\",\"1\":\"comp2\",\"2\":\"comp1\",\"3\":\"comp3\",\"4\":\"comp2\"},\n",
    "\"comp_price\":{\"0\":21.00,\"1\":20.99,\"2\":16.00,\"3\":15.99,\"4\":29.99}}\n",
    "df1 = pd.DataFrame(data=data)\n",
    "\n",
    "g = df1.groupby('brand')\n",
    "v = df1[df1['price']>df1['comp_price']].groupby('brand')"
   ]
  },
  {
   "cell_type": "code",
   "execution_count": 7,
   "metadata": {
    "collapsed": false
   },
   "outputs": [
    {
     "data": {
      "text/html": [
       "<div>\n",
       "<style>\n",
       "    .dataframe thead tr:only-child th {\n",
       "        text-align: right;\n",
       "    }\n",
       "\n",
       "    .dataframe thead th {\n",
       "        text-align: left;\n",
       "    }\n",
       "\n",
       "    .dataframe tbody tr th {\n",
       "        vertical-align: top;\n",
       "    }\n",
       "</style>\n",
       "<table border=\"1\" class=\"dataframe\">\n",
       "  <thead>\n",
       "    <tr style=\"text-align: right;\">\n",
       "      <th></th>\n",
       "      <th>item_number</th>\n",
       "      <th>comp_id</th>\n",
       "      <th>item_number</th>\n",
       "      <th>comp_id</th>\n",
       "    </tr>\n",
       "  </thead>\n",
       "  <tbody>\n",
       "    <tr>\n",
       "      <th>brand1</th>\n",
       "      <td>1</td>\n",
       "      <td>2</td>\n",
       "      <td>NaN</td>\n",
       "      <td>NaN</td>\n",
       "    </tr>\n",
       "    <tr>\n",
       "      <th>brand2</th>\n",
       "      <td>1</td>\n",
       "      <td>2</td>\n",
       "      <td>1.0</td>\n",
       "      <td>2.0</td>\n",
       "    </tr>\n",
       "    <tr>\n",
       "      <th>brand3</th>\n",
       "      <td>1</td>\n",
       "      <td>1</td>\n",
       "      <td>1.0</td>\n",
       "      <td>1.0</td>\n",
       "    </tr>\n",
       "  </tbody>\n",
       "</table>\n",
       "</div>"
      ],
      "text/plain": [
       "        item_number  comp_id  item_number  comp_id\n",
       "brand1            1        2          NaN      NaN\n",
       "brand2            1        2          1.0      2.0\n",
       "brand3            1        1          1.0      1.0"
      ]
     },
     "execution_count": 7,
     "metadata": {},
     "output_type": "execute_result"
    }
   ],
   "source": [
    "f1 = lambda x: len(x.unique())\n",
    "f = {'item_number':f1, 'comp_id':f1}\n",
    "pd.concat([g.agg(f),v.agg(f)], axis=1)"
   ]
  },
  {
   "cell_type": "code",
   "execution_count": null,
   "metadata": {
    "collapsed": true
   },
   "outputs": [],
   "source": []
  }
 ],
 "metadata": {
  "kernelspec": {
   "display_name": "Python 2",
   "language": "python",
   "name": "python2"
  },
  "language_info": {
   "codemirror_mode": {
    "name": "ipython",
    "version": 2
   },
   "file_extension": ".py",
   "mimetype": "text/x-python",
   "name": "python",
   "nbconvert_exporter": "python",
   "pygments_lexer": "ipython2",
   "version": "2.7.11"
  }
 },
 "nbformat": 4,
 "nbformat_minor": 0
}
