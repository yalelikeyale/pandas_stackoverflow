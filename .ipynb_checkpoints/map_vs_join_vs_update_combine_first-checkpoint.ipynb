{
 "cells": [
  {
   "cell_type": "code",
   "execution_count": 1,
   "metadata": {
    "collapsed": false
   },
   "outputs": [],
   "source": [
    "import pandas as pd\n",
    "import numpy as np"
   ]
  },
  {
   "cell_type": "code",
   "execution_count": null,
   "metadata": {
    "collapsed": false
   },
   "outputs": [],
   "source": [
    "#map example -- note -- map is only friendly with series. df object does not have a map function callable. \n",
    "pb = {\"mark_up_id\":{\"0\":\"123\",\"1\":\"456\",\"2\":\"789\",\"3\":\"111\",\"4\":\"222\"},\"mark_up\":{\"0\":1.2987,\"1\":1.5625,\"2\":1.3698,\"3\":1.3333,\"4\":1.4589}}\n",
    "data = {\"id\":{\"0\":\"K69\",\"1\":\"K70\",\"2\":\"K71\",\"3\":\"K72\",\"4\":\"K73\",\"5\":\"K74\",\"6\":\"K75\",\"7\":\"K79\",\"8\":\"K86\",\"9\":\"K100\"},\"cost\":{\"0\":29.74,\"1\":9.42,\"2\":9.42,\"3\":9.42,\"4\":9.48,\"5\":9.48,\"6\":24.36,\"7\":5.16,\"8\":9.8,\"9\":3.28},\"mark_up_id\":{\"0\":\"123\",\"1\":\"456\",\"2\":\"789\",\"3\":\"111\",\"4\":\"222\",\"5\":\"333\",\"6\":\"444\",\"7\":\"555\",\"8\":\"666\",\"9\":\"777\"}}\n",
    "\n",
    "pb = pd.DataFrame(data=pb).set_index('mark_up_id')\n",
    "df = pd.DataFrame(data=data)"
   ]
  },
  {
   "cell_type": "code",
   "execution_count": null,
   "metadata": {
    "collapsed": false
   },
   "outputs": [],
   "source": [
    "df"
   ]
  },
  {
   "cell_type": "code",
   "execution_count": null,
   "metadata": {
    "collapsed": false
   },
   "outputs": [],
   "source": [
    "pb"
   ]
  },
  {
   "cell_type": "code",
   "execution_count": null,
   "metadata": {
    "collapsed": false
   },
   "outputs": [],
   "source": [
    "df['mark_up_id'].map(pb['mark_up'])"
   ]
  },
  {
   "cell_type": "code",
   "execution_count": null,
   "metadata": {
    "collapsed": true
   },
   "outputs": [],
   "source": [
    "#by selecting a series in the dataframe df, using map, you're able to find the correlated value to each value in pb\n",
    "#so long as the index in pb corresponds to a value in the series created by df['mark_up_id']\n",
    "print(df['mark_up_id'].map(pb['mark_up']))\n",
    "\n",
    "#using insert, you can insert a series into a dataframe, so long as something like map was used so the lengths are the same\n",
    "df.insert(1,'mark_up',df['mark_up_id'].map(pb['mark_up']))\n",
    "print(df.head())\n",
    "\n",
    "#alternatively, you can use update, if a column already exists"
   ]
  },
  {
   "cell_type": "code",
   "execution_count": null,
   "metadata": {
    "collapsed": false
   },
   "outputs": [],
   "source": [
    "#example of how to perform a similar function to the above when dealing with a multi-index using join\n",
    "data = {\"uid\":{\"0\":\"abc123\",\"1\":\"abc123\",\"2\":\"abc\",\"3\":\"abc\",\"4\":\"efgh\"},\"comp_id\":{\"0\":1395,\"1\":2467,\"2\":4567,\"3\":1596,\"4\":111222},\"retailer\":{\"0\":\"Shmo\",\"1\":\"Joe\",\"2\":\"Jon\",\"3\":\"Sam\",\"4\":\"Tim\"},\"price\":{\"0\":7.49,\"1\":5.17,\"2\":89.99,\"3\":13.99,\"4\":4.98}}\n",
    "stock = {\"uid\":{\"0\":\"abc123\",\"1\":\"abc123\",\"2\":\"abc\",\"3\":\"abc\",\"4\":\"efgh\"},\"comp_id\":{\"0\":1395,\"1\":2467,\"2\":4567,\"3\":1596,\"4\":111222},\"availability\":{\"0\":\"True\",\"1\":\"True\",\"2\":\"True\",\"3\":\"True\",\"4\":\"True\"}}\n",
    "df = pd.DataFrame(data)\n",
    "s = pd.DataFrame(stock)\n",
    "s = s.set_index(['comp_id','uid'])"
   ]
  },
  {
   "cell_type": "code",
   "execution_count": null,
   "metadata": {
    "collapsed": true
   },
   "outputs": [],
   "source": [
    "#be aware of the levels of the multi-index need to line up across both data-sets\n",
    "df[['uid','comp_id']].set_index(['comp_id','uid']).join(s).values"
   ]
  },
  {
   "cell_type": "code",
   "execution_count": null,
   "metadata": {
    "collapsed": true
   },
   "outputs": [],
   "source": [
    "#then like above this array can be inserted into the dataframe\n",
    "df.insert(3,'availability', df[['uid','comp_id']].set_index(['comp_id','uid']).join(s).values)"
   ]
  },
  {
   "cell_type": "code",
   "execution_count": null,
   "metadata": {
    "collapsed": true
   },
   "outputs": [],
   "source": [
    "#map can however be used with indices that are tuples\n",
    "df = pd.DataFrame(data={'A':range(1,8), 'B':range(1,8), 'C': range(1,8)},\n",
    " index=pd.MultiIndex.from_tuples([('chrom1', '-', 1234), ('chrom1', '+', 5678),\n",
    " ('chrom1', '+', 9876),  ('chrom2', '+', 13579), ('chrom2', '+', 8497), ('chrom2', '-', 98765),\n",
    " ('chrom2', '-', 76856)]))\n",
    "\n",
    "df.index.rename(['chrom','strand','abs_pos'], inplace=True)\n",
    "gene_d = {('chrom1', '-', 1234) : 'geneA', ('chrom1', '+', 5678): 'geneB', \n",
    "    ('chrom1', '+', 9876): 'geneC', ('chrom2', '+', 13579): 'geneD',\n",
    "    ('chrom2', '+', 8497): 'geneE', ('chrom2', '-', 98765): 'geneF', \n",
    "    ('chrom2', '-', 76856): 'geneG'}"
   ]
  },
  {
   "cell_type": "code",
   "execution_count": null,
   "metadata": {
    "collapsed": true
   },
   "outputs": [],
   "source": [
    "df['gene'] = df.index #you get the index as tuple"
   ]
  },
  {
   "cell_type": "code",
   "execution_count": null,
   "metadata": {
    "collapsed": true
   },
   "outputs": [],
   "source": [
    "df['gene'] = df['gene'].map(gene_d)"
   ]
  },
  {
   "cell_type": "code",
   "execution_count": null,
   "metadata": {
    "collapsed": true
   },
   "outputs": [],
   "source": [
    "df = df.set_index('gene', append=True)"
   ]
  },
  {
   "cell_type": "code",
   "execution_count": 52,
   "metadata": {
    "collapsed": true
   },
   "outputs": [],
   "source": [
    "data = {\n",
    "  \"sku\": {\n",
    "    \"0\": \"123\",\n",
    "    \"1\": \"321\",\n",
    "    \"2\": \"456\",\n",
    "    \"3\": \"678\",\n",
    "    \"4\": \"123\",\n",
    "    \"5\": \"321\",\n",
    "    \"6\": \"456\",\n",
    "    \"7\": \"101\",\n",
    "    \"8\": \"123\",\n",
    "    \"9\": \"101\"\n",
    "  },\n",
    "  \"retailer\": {\n",
    "    \"0\": \"BobStore\",\n",
    "    \"1\": \"BobStore\",\n",
    "    \"2\": \"BobStore\",\n",
    "    \"3\": \"BobStore\",\n",
    "    \"4\": \"SamStore\",\n",
    "    \"5\": \"SamStore\",\n",
    "    \"6\": \"RobStore\",\n",
    "    \"7\": \"SamStore\",\n",
    "    \"8\": \"RobStore\",\n",
    "    \"9\": \"BobStore\"\n",
    "\n",
    "  },\n",
    "  \"description\": {\n",
    "    \"0\": \"Jacket\",\n",
    "    \"1\": \"Jacket\",\n",
    "    \"2\": \"Jacket\",\n",
    "    \"3\": \"Jacket\",\n",
    "    \"4\": \"Jacket\",\n",
    "    \"5\": \"Jacket\",\n",
    "    \"6\": \"Jacket\",\n",
    "    \"7\": \"Jacket\",\n",
    "    \"8\": \"Jacket\",\n",
    "    \"9\": \"Jacket\"\n",
    "  },\n",
    "  \"price\": {\n",
    "    \"0\": 19.99,\n",
    "    \"1\": 18.99,\n",
    "    \"2\": 12.99,\n",
    "    \"3\": 15.99,\n",
    "    \"4\": 12.99,\n",
    "    \"5\": 12.99,\n",
    "    \"6\": 11.99,\n",
    "    \"7\": 19.99,\n",
    "    \"8\": 16.99,\n",
    "    \"9\": 18.99\n",
    "  },\n",
    "  \"shipping\": {\n",
    "    \"0\": 6.99,\n",
    "    \"1\": 4.99,\n",
    "    \"2\": 6.99,\n",
    "    \"3\": 3.99,\n",
    "    \"4\": 6.99,\n",
    "    \"5\": 4.99,\n",
    "    \"6\": 6.99,\n",
    "    \"7\": 9.99,\n",
    "    \"8\": 1.99,\n",
    "    \"9\": 2.99,\n",
    "  },\n",
    "  \"availability\": {\n",
    "    \"0\": \"True\",\n",
    "    \"1\": \"False\",\n",
    "    \"2\": \"\",\n",
    "    \"3\": \"\",\n",
    "    \"4\": \"False\",\n",
    "    \"5\": \"True\",\n",
    "    \"6\": \"\",\n",
    "    \"7\": \"\",\n",
    "    \"8\": \"\",\n",
    "    \"9\": \"True\",\n",
    "  }\n",
    "}\n",
    "df = pd.DataFrame(data=data)\n",
    "\n",
    "\n",
    "data = {\n",
    "  \"sku\": {\n",
    "    \"0\": \"123\",\n",
    "    \"1\": \"101\",\n",
    "    \"2\": \"456\",\n",
    "    \"3\": \"879\",\n",
    "\n",
    "  },\n",
    "  \"availability\": {\n",
    "    \"0\": \"False\",\n",
    "    \"1\": \"True\",\n",
    "    \"2\": \"True\",\n",
    "    \"3\": \"True\",\n",
    "  }\n",
    "}\n",
    "bobStore = pd.DataFrame(data=data)\n",
    "\n",
    "\n",
    "data = {\n",
    "  \"sku\": {\n",
    "    \"0\": \"123\",\n",
    "    \"1\": \"101\",\n",
    "\n",
    "  },\n",
    "  \"availability\": {\n",
    "    \"0\": \"False\",\n",
    "    \"1\": \"True\",\n",
    "  }\n",
    "}\n",
    "samStore = pd.DataFrame(data=data)"
   ]
  },
  {
   "cell_type": "code",
   "execution_count": 53,
   "metadata": {
    "collapsed": false
   },
   "outputs": [],
   "source": [
    "#update solution\n",
    "test = df.set_index(['sku','retailer'])\n",
    "bobTest = bobStore\n",
    "bobTest['retailer'] = 'BobStore'\n",
    "bobTest = bobStore.set_index(['sku','retailer'])\n",
    "test.update(bobTest)"
   ]
  },
  {
   "cell_type": "code",
   "execution_count": 56,
   "metadata": {
    "collapsed": false
   },
   "outputs": [],
   "source": [
    "test = test.reset_index()"
   ]
  },
  {
   "cell_type": "code",
   "execution_count": 57,
   "metadata": {
    "collapsed": true
   },
   "outputs": [],
   "source": [
    "testBob = test[test['retailer']=='BobStore']"
   ]
  },
  {
   "cell_type": "code",
   "execution_count": 59,
   "metadata": {
    "collapsed": false
   },
   "outputs": [
    {
     "data": {
      "text/html": [
       "<div>\n",
       "<style>\n",
       "    .dataframe thead tr:only-child th {\n",
       "        text-align: right;\n",
       "    }\n",
       "\n",
       "    .dataframe thead th {\n",
       "        text-align: left;\n",
       "    }\n",
       "\n",
       "    .dataframe tbody tr th {\n",
       "        vertical-align: top;\n",
       "    }\n",
       "</style>\n",
       "<table border=\"1\" class=\"dataframe\">\n",
       "  <thead>\n",
       "    <tr style=\"text-align: right;\">\n",
       "      <th></th>\n",
       "      <th></th>\n",
       "      <th>availability</th>\n",
       "    </tr>\n",
       "    <tr>\n",
       "      <th>sku</th>\n",
       "      <th>retailer</th>\n",
       "      <th></th>\n",
       "    </tr>\n",
       "  </thead>\n",
       "  <tbody>\n",
       "    <tr>\n",
       "      <th>123</th>\n",
       "      <th>BobStore</th>\n",
       "      <td>False</td>\n",
       "    </tr>\n",
       "    <tr>\n",
       "      <th>101</th>\n",
       "      <th>BobStore</th>\n",
       "      <td>True</td>\n",
       "    </tr>\n",
       "    <tr>\n",
       "      <th>456</th>\n",
       "      <th>BobStore</th>\n",
       "      <td>True</td>\n",
       "    </tr>\n",
       "    <tr>\n",
       "      <th>879</th>\n",
       "      <th>BobStore</th>\n",
       "      <td>True</td>\n",
       "    </tr>\n",
       "  </tbody>\n",
       "</table>\n",
       "</div>"
      ],
      "text/plain": [
       "             availability\n",
       "sku retailer             \n",
       "123 BobStore        False\n",
       "101 BobStore         True\n",
       "456 BobStore         True\n",
       "879 BobStore         True"
      ]
     },
     "execution_count": 59,
     "metadata": {},
     "output_type": "execute_result"
    }
   ],
   "source": [
    "bobTest"
   ]
  },
  {
   "cell_type": "code",
   "execution_count": 58,
   "metadata": {
    "collapsed": false
   },
   "outputs": [
    {
     "data": {
      "text/html": [
       "<div>\n",
       "<style>\n",
       "    .dataframe thead tr:only-child th {\n",
       "        text-align: right;\n",
       "    }\n",
       "\n",
       "    .dataframe thead th {\n",
       "        text-align: left;\n",
       "    }\n",
       "\n",
       "    .dataframe tbody tr th {\n",
       "        vertical-align: top;\n",
       "    }\n",
       "</style>\n",
       "<table border=\"1\" class=\"dataframe\">\n",
       "  <thead>\n",
       "    <tr style=\"text-align: right;\">\n",
       "      <th></th>\n",
       "      <th>sku</th>\n",
       "      <th>retailer</th>\n",
       "      <th>availability</th>\n",
       "      <th>description</th>\n",
       "      <th>price</th>\n",
       "      <th>shipping</th>\n",
       "    </tr>\n",
       "  </thead>\n",
       "  <tbody>\n",
       "    <tr>\n",
       "      <th>0</th>\n",
       "      <td>123</td>\n",
       "      <td>BobStore</td>\n",
       "      <td>False</td>\n",
       "      <td>Jacket</td>\n",
       "      <td>19.99</td>\n",
       "      <td>6.99</td>\n",
       "    </tr>\n",
       "    <tr>\n",
       "      <th>1</th>\n",
       "      <td>321</td>\n",
       "      <td>BobStore</td>\n",
       "      <td>False</td>\n",
       "      <td>Jacket</td>\n",
       "      <td>18.99</td>\n",
       "      <td>4.99</td>\n",
       "    </tr>\n",
       "    <tr>\n",
       "      <th>2</th>\n",
       "      <td>456</td>\n",
       "      <td>BobStore</td>\n",
       "      <td>True</td>\n",
       "      <td>Jacket</td>\n",
       "      <td>12.99</td>\n",
       "      <td>6.99</td>\n",
       "    </tr>\n",
       "    <tr>\n",
       "      <th>3</th>\n",
       "      <td>678</td>\n",
       "      <td>BobStore</td>\n",
       "      <td></td>\n",
       "      <td>Jacket</td>\n",
       "      <td>15.99</td>\n",
       "      <td>3.99</td>\n",
       "    </tr>\n",
       "    <tr>\n",
       "      <th>9</th>\n",
       "      <td>101</td>\n",
       "      <td>BobStore</td>\n",
       "      <td>True</td>\n",
       "      <td>Jacket</td>\n",
       "      <td>18.99</td>\n",
       "      <td>2.99</td>\n",
       "    </tr>\n",
       "  </tbody>\n",
       "</table>\n",
       "</div>"
      ],
      "text/plain": [
       "   sku  retailer availability description  price  shipping\n",
       "0  123  BobStore        False      Jacket  19.99      6.99\n",
       "1  321  BobStore        False      Jacket  18.99      4.99\n",
       "2  456  BobStore         True      Jacket  12.99      6.99\n",
       "3  678  BobStore                   Jacket  15.99      3.99\n",
       "9  101  BobStore         True      Jacket  18.99      2.99"
      ]
     },
     "execution_count": 58,
     "metadata": {},
     "output_type": "execute_result"
    }
   ],
   "source": [
    "testBob"
   ]
  },
  {
   "cell_type": "code",
   "execution_count": 63,
   "metadata": {
    "collapsed": false
   },
   "outputs": [],
   "source": [
    "test1 = bobStore[bobStore['sku'].isin(np.intersect1d(bobStore['sku'],df['sku']))].combine_first(df[df['retailer']=='BobStore']).combine_first(df)"
   ]
  },
  {
   "cell_type": "code",
   "execution_count": 64,
   "metadata": {
    "collapsed": false
   },
   "outputs": [
    {
     "data": {
      "text/html": [
       "<div>\n",
       "<style>\n",
       "    .dataframe thead tr:only-child th {\n",
       "        text-align: right;\n",
       "    }\n",
       "\n",
       "    .dataframe thead th {\n",
       "        text-align: left;\n",
       "    }\n",
       "\n",
       "    .dataframe tbody tr th {\n",
       "        vertical-align: top;\n",
       "    }\n",
       "</style>\n",
       "<table border=\"1\" class=\"dataframe\">\n",
       "  <thead>\n",
       "    <tr style=\"text-align: right;\">\n",
       "      <th></th>\n",
       "      <th>availability</th>\n",
       "      <th>description</th>\n",
       "      <th>price</th>\n",
       "      <th>retailer</th>\n",
       "      <th>shipping</th>\n",
       "      <th>sku</th>\n",
       "    </tr>\n",
       "  </thead>\n",
       "  <tbody>\n",
       "    <tr>\n",
       "      <th>0</th>\n",
       "      <td>False</td>\n",
       "      <td>Jacket</td>\n",
       "      <td>19.99</td>\n",
       "      <td>BobStore</td>\n",
       "      <td>6.99</td>\n",
       "      <td>123</td>\n",
       "    </tr>\n",
       "    <tr>\n",
       "      <th>1</th>\n",
       "      <td>True</td>\n",
       "      <td>Jacket</td>\n",
       "      <td>18.99</td>\n",
       "      <td>BobStore</td>\n",
       "      <td>4.99</td>\n",
       "      <td>101</td>\n",
       "    </tr>\n",
       "    <tr>\n",
       "      <th>2</th>\n",
       "      <td>True</td>\n",
       "      <td>Jacket</td>\n",
       "      <td>12.99</td>\n",
       "      <td>BobStore</td>\n",
       "      <td>6.99</td>\n",
       "      <td>456</td>\n",
       "    </tr>\n",
       "    <tr>\n",
       "      <th>3</th>\n",
       "      <td></td>\n",
       "      <td>Jacket</td>\n",
       "      <td>15.99</td>\n",
       "      <td>BobStore</td>\n",
       "      <td>3.99</td>\n",
       "      <td>678</td>\n",
       "    </tr>\n",
       "    <tr>\n",
       "      <th>4</th>\n",
       "      <td>False</td>\n",
       "      <td>Jacket</td>\n",
       "      <td>12.99</td>\n",
       "      <td>SamStore</td>\n",
       "      <td>6.99</td>\n",
       "      <td>123</td>\n",
       "    </tr>\n",
       "    <tr>\n",
       "      <th>5</th>\n",
       "      <td>True</td>\n",
       "      <td>Jacket</td>\n",
       "      <td>12.99</td>\n",
       "      <td>SamStore</td>\n",
       "      <td>4.99</td>\n",
       "      <td>321</td>\n",
       "    </tr>\n",
       "    <tr>\n",
       "      <th>6</th>\n",
       "      <td></td>\n",
       "      <td>Jacket</td>\n",
       "      <td>11.99</td>\n",
       "      <td>RobStore</td>\n",
       "      <td>6.99</td>\n",
       "      <td>456</td>\n",
       "    </tr>\n",
       "    <tr>\n",
       "      <th>7</th>\n",
       "      <td></td>\n",
       "      <td>Jacket</td>\n",
       "      <td>19.99</td>\n",
       "      <td>SamStore</td>\n",
       "      <td>9.99</td>\n",
       "      <td>101</td>\n",
       "    </tr>\n",
       "    <tr>\n",
       "      <th>8</th>\n",
       "      <td></td>\n",
       "      <td>Jacket</td>\n",
       "      <td>16.99</td>\n",
       "      <td>RobStore</td>\n",
       "      <td>1.99</td>\n",
       "      <td>123</td>\n",
       "    </tr>\n",
       "    <tr>\n",
       "      <th>9</th>\n",
       "      <td>True</td>\n",
       "      <td>Jacket</td>\n",
       "      <td>18.99</td>\n",
       "      <td>BobStore</td>\n",
       "      <td>2.99</td>\n",
       "      <td>101</td>\n",
       "    </tr>\n",
       "  </tbody>\n",
       "</table>\n",
       "</div>"
      ],
      "text/plain": [
       "  availability description  price  retailer  shipping  sku\n",
       "0        False      Jacket  19.99  BobStore      6.99  123\n",
       "1         True      Jacket  18.99  BobStore      4.99  101\n",
       "2         True      Jacket  12.99  BobStore      6.99  456\n",
       "3                   Jacket  15.99  BobStore      3.99  678\n",
       "4        False      Jacket  12.99  SamStore      6.99  123\n",
       "5         True      Jacket  12.99  SamStore      4.99  321\n",
       "6                   Jacket  11.99  RobStore      6.99  456\n",
       "7                   Jacket  19.99  SamStore      9.99  101\n",
       "8                   Jacket  16.99  RobStore      1.99  123\n",
       "9         True      Jacket  18.99  BobStore      2.99  101"
      ]
     },
     "execution_count": 64,
     "metadata": {},
     "output_type": "execute_result"
    }
   ],
   "source": [
    "test1"
   ]
  },
  {
   "cell_type": "code",
   "execution_count": 65,
   "metadata": {
    "collapsed": false
   },
   "outputs": [
    {
     "data": {
      "text/html": [
       "<div>\n",
       "<style>\n",
       "    .dataframe thead tr:only-child th {\n",
       "        text-align: right;\n",
       "    }\n",
       "\n",
       "    .dataframe thead th {\n",
       "        text-align: left;\n",
       "    }\n",
       "\n",
       "    .dataframe tbody tr th {\n",
       "        vertical-align: top;\n",
       "    }\n",
       "</style>\n",
       "<table border=\"1\" class=\"dataframe\">\n",
       "  <thead>\n",
       "    <tr style=\"text-align: right;\">\n",
       "      <th></th>\n",
       "      <th>availability</th>\n",
       "      <th>description</th>\n",
       "      <th>price</th>\n",
       "      <th>retailer</th>\n",
       "      <th>shipping</th>\n",
       "      <th>sku</th>\n",
       "    </tr>\n",
       "  </thead>\n",
       "  <tbody>\n",
       "    <tr>\n",
       "      <th>0</th>\n",
       "      <td>False</td>\n",
       "      <td>Jacket</td>\n",
       "      <td>19.99</td>\n",
       "      <td>BobStore</td>\n",
       "      <td>6.99</td>\n",
       "      <td>123</td>\n",
       "    </tr>\n",
       "    <tr>\n",
       "      <th>1</th>\n",
       "      <td>True</td>\n",
       "      <td>Jacket</td>\n",
       "      <td>18.99</td>\n",
       "      <td>BobStore</td>\n",
       "      <td>4.99</td>\n",
       "      <td>101</td>\n",
       "    </tr>\n",
       "    <tr>\n",
       "      <th>2</th>\n",
       "      <td>True</td>\n",
       "      <td>Jacket</td>\n",
       "      <td>12.99</td>\n",
       "      <td>BobStore</td>\n",
       "      <td>6.99</td>\n",
       "      <td>456</td>\n",
       "    </tr>\n",
       "    <tr>\n",
       "      <th>3</th>\n",
       "      <td></td>\n",
       "      <td>Jacket</td>\n",
       "      <td>15.99</td>\n",
       "      <td>BobStore</td>\n",
       "      <td>3.99</td>\n",
       "      <td>678</td>\n",
       "    </tr>\n",
       "    <tr>\n",
       "      <th>9</th>\n",
       "      <td>True</td>\n",
       "      <td>Jacket</td>\n",
       "      <td>18.99</td>\n",
       "      <td>BobStore</td>\n",
       "      <td>2.99</td>\n",
       "      <td>101</td>\n",
       "    </tr>\n",
       "  </tbody>\n",
       "</table>\n",
       "</div>"
      ],
      "text/plain": [
       "  availability description  price  retailer  shipping  sku\n",
       "0        False      Jacket  19.99  BobStore      6.99  123\n",
       "1         True      Jacket  18.99  BobStore      4.99  101\n",
       "2         True      Jacket  12.99  BobStore      6.99  456\n",
       "3                   Jacket  15.99  BobStore      3.99  678\n",
       "9         True      Jacket  18.99  BobStore      2.99  101"
      ]
     },
     "execution_count": 65,
     "metadata": {},
     "output_type": "execute_result"
    }
   ],
   "source": [
    "test1[test1['retailer']=='BobStore']"
   ]
  },
  {
   "cell_type": "code",
   "execution_count": 66,
   "metadata": {
    "collapsed": false
   },
   "outputs": [
    {
     "data": {
      "text/html": [
       "<div>\n",
       "<style>\n",
       "    .dataframe thead tr:only-child th {\n",
       "        text-align: right;\n",
       "    }\n",
       "\n",
       "    .dataframe thead th {\n",
       "        text-align: left;\n",
       "    }\n",
       "\n",
       "    .dataframe tbody tr th {\n",
       "        vertical-align: top;\n",
       "    }\n",
       "</style>\n",
       "<table border=\"1\" class=\"dataframe\">\n",
       "  <thead>\n",
       "    <tr style=\"text-align: right;\">\n",
       "      <th></th>\n",
       "      <th>availability</th>\n",
       "      <th>description</th>\n",
       "      <th>price</th>\n",
       "      <th>retailer</th>\n",
       "      <th>shipping</th>\n",
       "      <th>sku</th>\n",
       "    </tr>\n",
       "  </thead>\n",
       "  <tbody>\n",
       "    <tr>\n",
       "      <th>0</th>\n",
       "      <td>True</td>\n",
       "      <td>Jacket</td>\n",
       "      <td>19.99</td>\n",
       "      <td>BobStore</td>\n",
       "      <td>6.99</td>\n",
       "      <td>123</td>\n",
       "    </tr>\n",
       "    <tr>\n",
       "      <th>1</th>\n",
       "      <td>False</td>\n",
       "      <td>Jacket</td>\n",
       "      <td>18.99</td>\n",
       "      <td>BobStore</td>\n",
       "      <td>4.99</td>\n",
       "      <td>321</td>\n",
       "    </tr>\n",
       "    <tr>\n",
       "      <th>2</th>\n",
       "      <td></td>\n",
       "      <td>Jacket</td>\n",
       "      <td>12.99</td>\n",
       "      <td>BobStore</td>\n",
       "      <td>6.99</td>\n",
       "      <td>456</td>\n",
       "    </tr>\n",
       "    <tr>\n",
       "      <th>3</th>\n",
       "      <td></td>\n",
       "      <td>Jacket</td>\n",
       "      <td>15.99</td>\n",
       "      <td>BobStore</td>\n",
       "      <td>3.99</td>\n",
       "      <td>678</td>\n",
       "    </tr>\n",
       "    <tr>\n",
       "      <th>4</th>\n",
       "      <td>False</td>\n",
       "      <td>Jacket</td>\n",
       "      <td>12.99</td>\n",
       "      <td>SamStore</td>\n",
       "      <td>6.99</td>\n",
       "      <td>123</td>\n",
       "    </tr>\n",
       "    <tr>\n",
       "      <th>5</th>\n",
       "      <td>True</td>\n",
       "      <td>Jacket</td>\n",
       "      <td>12.99</td>\n",
       "      <td>SamStore</td>\n",
       "      <td>4.99</td>\n",
       "      <td>321</td>\n",
       "    </tr>\n",
       "    <tr>\n",
       "      <th>6</th>\n",
       "      <td></td>\n",
       "      <td>Jacket</td>\n",
       "      <td>11.99</td>\n",
       "      <td>RobStore</td>\n",
       "      <td>6.99</td>\n",
       "      <td>456</td>\n",
       "    </tr>\n",
       "    <tr>\n",
       "      <th>7</th>\n",
       "      <td></td>\n",
       "      <td>Jacket</td>\n",
       "      <td>19.99</td>\n",
       "      <td>SamStore</td>\n",
       "      <td>9.99</td>\n",
       "      <td>101</td>\n",
       "    </tr>\n",
       "    <tr>\n",
       "      <th>8</th>\n",
       "      <td></td>\n",
       "      <td>Jacket</td>\n",
       "      <td>16.99</td>\n",
       "      <td>RobStore</td>\n",
       "      <td>1.99</td>\n",
       "      <td>123</td>\n",
       "    </tr>\n",
       "    <tr>\n",
       "      <th>9</th>\n",
       "      <td>True</td>\n",
       "      <td>Jacket</td>\n",
       "      <td>18.99</td>\n",
       "      <td>BobStore</td>\n",
       "      <td>2.99</td>\n",
       "      <td>101</td>\n",
       "    </tr>\n",
       "  </tbody>\n",
       "</table>\n",
       "</div>"
      ],
      "text/plain": [
       "  availability description  price  retailer  shipping  sku\n",
       "0         True      Jacket  19.99  BobStore      6.99  123\n",
       "1        False      Jacket  18.99  BobStore      4.99  321\n",
       "2                   Jacket  12.99  BobStore      6.99  456\n",
       "3                   Jacket  15.99  BobStore      3.99  678\n",
       "4        False      Jacket  12.99  SamStore      6.99  123\n",
       "5         True      Jacket  12.99  SamStore      4.99  321\n",
       "6                   Jacket  11.99  RobStore      6.99  456\n",
       "7                   Jacket  19.99  SamStore      9.99  101\n",
       "8                   Jacket  16.99  RobStore      1.99  123\n",
       "9         True      Jacket  18.99  BobStore      2.99  101"
      ]
     },
     "execution_count": 66,
     "metadata": {},
     "output_type": "execute_result"
    }
   ],
   "source": [
    "df"
   ]
  },
  {
   "cell_type": "code",
   "execution_count": null,
   "metadata": {
    "collapsed": true
   },
   "outputs": [],
   "source": []
  }
 ],
 "metadata": {
  "kernelspec": {
   "display_name": "Python 2",
   "language": "python",
   "name": "python2"
  },
  "language_info": {
   "codemirror_mode": {
    "name": "ipython",
    "version": 2
   },
   "file_extension": ".py",
   "mimetype": "text/x-python",
   "name": "python",
   "nbconvert_exporter": "python",
   "pygments_lexer": "ipython2",
   "version": "2.7.11"
  }
 },
 "nbformat": 4,
 "nbformat_minor": 0
}
