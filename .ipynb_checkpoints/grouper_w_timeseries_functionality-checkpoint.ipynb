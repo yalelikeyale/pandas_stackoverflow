{
 "cells": [
  {
   "cell_type": "code",
   "execution_count": 1,
   "metadata": {
    "collapsed": true
   },
   "outputs": [],
   "source": [
    "import pandas as pd\n",
    "import numpy as np"
   ]
  },
  {
   "cell_type": "code",
   "execution_count": 2,
   "metadata": {
    "collapsed": true
   },
   "outputs": [],
   "source": [
    "df = pd.read_csv('sample_sets/sample-sales.csv')"
   ]
  },
  {
   "cell_type": "code",
   "execution_count": 4,
   "metadata": {
    "collapsed": true
   },
   "outputs": [],
   "source": [
    "df[\"date\"] = pd.to_datetime(df['date'])"
   ]
  },
  {
   "cell_type": "code",
   "execution_count": 7,
   "metadata": {
    "collapsed": false
   },
   "outputs": [
    {
     "data": {
      "text/html": [
       "<div>\n",
       "<style>\n",
       "    .dataframe thead tr:only-child th {\n",
       "        text-align: right;\n",
       "    }\n",
       "\n",
       "    .dataframe thead th {\n",
       "        text-align: left;\n",
       "    }\n",
       "\n",
       "    .dataframe tbody tr th {\n",
       "        vertical-align: top;\n",
       "    }\n",
       "</style>\n",
       "<table border=\"1\" class=\"dataframe\">\n",
       "  <thead>\n",
       "    <tr style=\"text-align: right;\">\n",
       "      <th></th>\n",
       "      <th>account number</th>\n",
       "      <th>name</th>\n",
       "      <th>sku</th>\n",
       "      <th>quantity</th>\n",
       "      <th>unit price</th>\n",
       "      <th>ext price</th>\n",
       "      <th>date</th>\n",
       "    </tr>\n",
       "  </thead>\n",
       "  <tbody>\n",
       "    <tr>\n",
       "      <th>0</th>\n",
       "      <td>740150</td>\n",
       "      <td>Barton LLC</td>\n",
       "      <td>B1-20000</td>\n",
       "      <td>39</td>\n",
       "      <td>86.69</td>\n",
       "      <td>3380.91</td>\n",
       "      <td>2014-01-01 07:21:51</td>\n",
       "    </tr>\n",
       "    <tr>\n",
       "      <th>1</th>\n",
       "      <td>714466</td>\n",
       "      <td>Trantow-Barrows</td>\n",
       "      <td>S2-77896</td>\n",
       "      <td>-1</td>\n",
       "      <td>63.16</td>\n",
       "      <td>-63.16</td>\n",
       "      <td>2014-01-01 10:00:47</td>\n",
       "    </tr>\n",
       "    <tr>\n",
       "      <th>2</th>\n",
       "      <td>218895</td>\n",
       "      <td>Kulas Inc</td>\n",
       "      <td>B1-69924</td>\n",
       "      <td>23</td>\n",
       "      <td>90.70</td>\n",
       "      <td>2086.10</td>\n",
       "      <td>2014-01-01 13:24:58</td>\n",
       "    </tr>\n",
       "    <tr>\n",
       "      <th>3</th>\n",
       "      <td>307599</td>\n",
       "      <td>Kassulke, Ondricka and Metz</td>\n",
       "      <td>S1-65481</td>\n",
       "      <td>41</td>\n",
       "      <td>21.05</td>\n",
       "      <td>863.05</td>\n",
       "      <td>2014-01-01 15:05:22</td>\n",
       "    </tr>\n",
       "    <tr>\n",
       "      <th>4</th>\n",
       "      <td>412290</td>\n",
       "      <td>Jerde-Hilpert</td>\n",
       "      <td>S2-34077</td>\n",
       "      <td>6</td>\n",
       "      <td>83.21</td>\n",
       "      <td>499.26</td>\n",
       "      <td>2014-01-01 23:26:55</td>\n",
       "    </tr>\n",
       "  </tbody>\n",
       "</table>\n",
       "</div>"
      ],
      "text/plain": [
       "   account number                         name       sku  quantity  \\\n",
       "0          740150                   Barton LLC  B1-20000        39   \n",
       "1          714466              Trantow-Barrows  S2-77896        -1   \n",
       "2          218895                    Kulas Inc  B1-69924        23   \n",
       "3          307599  Kassulke, Ondricka and Metz  S1-65481        41   \n",
       "4          412290                Jerde-Hilpert  S2-34077         6   \n",
       "\n",
       "   unit price  ext price                date  \n",
       "0       86.69    3380.91 2014-01-01 07:21:51  \n",
       "1       63.16     -63.16 2014-01-01 10:00:47  \n",
       "2       90.70    2086.10 2014-01-01 13:24:58  \n",
       "3       21.05     863.05 2014-01-01 15:05:22  \n",
       "4       83.21     499.26 2014-01-01 23:26:55  "
      ]
     },
     "execution_count": 7,
     "metadata": {},
     "output_type": "execute_result"
    }
   ],
   "source": [
    "df.head()"
   ]
  },
  {
   "cell_type": "code",
   "execution_count": 5,
   "metadata": {
    "collapsed": false
   },
   "outputs": [
    {
     "data": {
      "text/plain": [
       "date\n",
       "2014-01-31    185361.66\n",
       "2014-02-28    146211.62\n",
       "2014-03-31    203921.38\n",
       "2014-04-30    174574.11\n",
       "2014-05-31    165418.55\n",
       "2014-06-30    174089.33\n",
       "2014-07-31    191662.11\n",
       "2014-08-31    153778.59\n",
       "2014-09-30    168443.17\n",
       "2014-10-31    171495.32\n",
       "2014-11-30    119961.22\n",
       "2014-12-31    163867.26\n",
       "Freq: M, Name: ext price, dtype: float64"
      ]
     },
     "execution_count": 5,
     "metadata": {},
     "output_type": "execute_result"
    }
   ],
   "source": [
    "#using the offset aliases listed here (http://pandas.pydata.org/pandas-docs/stable/timeseries.html#offset-aliases)\n",
    "\n",
    "#example of resample functionality w/ timeseries data\n",
    "#resample leverages functionality within timeseries to group by specific time parts like month/day/year etc\n",
    "#resample requires that the date column be set to the index\n",
    "df.set_index('date').resample('M')[\"ext price\"].sum()"
   ]
  },
  {
   "cell_type": "code",
   "execution_count": 13,
   "metadata": {
    "collapsed": false
   },
   "outputs": [
    {
     "data": {
      "text/plain": [
       "name                             date      \n",
       "Barton LLC                       2014-01-31     6177.57\n",
       "                                 2014-02-28    12218.03\n",
       "                                 2014-03-31     3513.53\n",
       "                                 2014-04-30    11474.20\n",
       "                                 2014-05-31    10220.17\n",
       "                                 2014-06-30    10463.73\n",
       "                                 2014-07-31     6750.48\n",
       "                                 2014-08-31    17541.46\n",
       "                                 2014-09-30    14053.61\n",
       "                                 2014-10-31     9351.68\n",
       "                                 2014-11-30     4901.14\n",
       "                                 2014-12-31     2772.90\n",
       "Cronin, Oberbrunner and Spencer  2014-01-31     1141.75\n",
       "                                 2014-02-28    13976.26\n",
       "                                 2014-03-31    11691.62\n",
       "                                 2014-04-30     3685.44\n",
       "                                 2014-05-31     6760.11\n",
       "                                 2014-06-30     5379.67\n",
       "                                 2014-07-31     6020.30\n",
       "                                 2014-08-31     5399.58\n",
       "                                 2014-09-30    12693.74\n",
       "                                 2014-10-31     9324.37\n",
       "                                 2014-11-30     6021.11\n",
       "                                 2014-12-31     7640.60\n",
       "Frami, Hills and Schmidt         2014-01-31     5112.34\n",
       "                                 2014-02-28     4124.53\n",
       "                                 2014-03-31    10397.44\n",
       "                                 2014-04-30     5036.18\n",
       "                                 2014-05-31     4097.87\n",
       "                                 2014-06-30    13192.19\n",
       "                                                 ...   \n",
       "Trantow-Barrows                  2014-07-31    11987.34\n",
       "                                 2014-08-31    17251.65\n",
       "                                 2014-09-30     6992.48\n",
       "                                 2014-10-31    10064.27\n",
       "                                 2014-11-30     6550.10\n",
       "                                 2014-12-31    10124.23\n",
       "White-Trantow                    2014-01-31    13703.77\n",
       "                                 2014-02-28    11783.98\n",
       "                                 2014-03-31     8583.05\n",
       "                                 2014-04-30    19009.20\n",
       "                                 2014-05-31     5877.29\n",
       "                                 2014-06-30    14791.32\n",
       "                                 2014-07-31    10242.62\n",
       "                                 2014-08-31    12287.21\n",
       "                                 2014-09-30     5315.16\n",
       "                                 2014-10-31    19896.85\n",
       "                                 2014-11-30     9544.61\n",
       "                                 2014-12-31     4806.93\n",
       "Will LLC                         2014-01-31    20953.87\n",
       "                                 2014-02-28    13613.06\n",
       "                                 2014-03-31     9838.93\n",
       "                                 2014-04-30     6094.94\n",
       "                                 2014-05-31    11856.95\n",
       "                                 2014-06-30     2419.52\n",
       "                                 2014-07-31    11017.54\n",
       "                                 2014-08-31     1439.82\n",
       "                                 2014-09-30     4345.99\n",
       "                                 2014-10-31     7085.33\n",
       "                                 2014-11-30     3210.44\n",
       "                                 2014-12-31    12561.21\n",
       "Name: ext price, Length: 240, dtype: float64"
      ]
     },
     "execution_count": 13,
     "metadata": {},
     "output_type": "execute_result"
    }
   ],
   "source": [
    "#QUESTION: breakdown the above by each customer\n",
    "df.set_index('date').groupby('name')[\"ext price\"].resample('M').sum()"
   ]
  },
  {
   "cell_type": "code",
   "execution_count": 14,
   "metadata": {
    "collapsed": false
   },
   "outputs": [
    {
     "data": {
      "text/plain": [
       "name                             date      \n",
       "Barton LLC                       2014-01-31     6177.57\n",
       "                                 2014-02-28    12218.03\n",
       "                                 2014-03-31     3513.53\n",
       "                                 2014-04-30    11474.20\n",
       "                                 2014-05-31    10220.17\n",
       "                                 2014-06-30    10463.73\n",
       "                                 2014-07-31     6750.48\n",
       "                                 2014-08-31    17541.46\n",
       "                                 2014-09-30    14053.61\n",
       "                                 2014-10-31     9351.68\n",
       "                                 2014-11-30     4901.14\n",
       "                                 2014-12-31     2772.90\n",
       "Cronin, Oberbrunner and Spencer  2014-01-31     1141.75\n",
       "                                 2014-02-28    13976.26\n",
       "                                 2014-03-31    11691.62\n",
       "                                 2014-04-30     3685.44\n",
       "                                 2014-05-31     6760.11\n",
       "                                 2014-06-30     5379.67\n",
       "                                 2014-07-31     6020.30\n",
       "                                 2014-08-31     5399.58\n",
       "                                 2014-09-30    12693.74\n",
       "                                 2014-10-31     9324.37\n",
       "                                 2014-11-30     6021.11\n",
       "                                 2014-12-31     7640.60\n",
       "Frami, Hills and Schmidt         2014-01-31     5112.34\n",
       "                                 2014-02-28     4124.53\n",
       "                                 2014-03-31    10397.44\n",
       "                                 2014-04-30     5036.18\n",
       "                                 2014-05-31     4097.87\n",
       "                                 2014-06-30    13192.19\n",
       "                                                 ...   \n",
       "Trantow-Barrows                  2014-07-31    11987.34\n",
       "                                 2014-08-31    17251.65\n",
       "                                 2014-09-30     6992.48\n",
       "                                 2014-10-31    10064.27\n",
       "                                 2014-11-30     6550.10\n",
       "                                 2014-12-31    10124.23\n",
       "White-Trantow                    2014-01-31    13703.77\n",
       "                                 2014-02-28    11783.98\n",
       "                                 2014-03-31     8583.05\n",
       "                                 2014-04-30    19009.20\n",
       "                                 2014-05-31     5877.29\n",
       "                                 2014-06-30    14791.32\n",
       "                                 2014-07-31    10242.62\n",
       "                                 2014-08-31    12287.21\n",
       "                                 2014-09-30     5315.16\n",
       "                                 2014-10-31    19896.85\n",
       "                                 2014-11-30     9544.61\n",
       "                                 2014-12-31     4806.93\n",
       "Will LLC                         2014-01-31    20953.87\n",
       "                                 2014-02-28    13613.06\n",
       "                                 2014-03-31     9838.93\n",
       "                                 2014-04-30     6094.94\n",
       "                                 2014-05-31    11856.95\n",
       "                                 2014-06-30     2419.52\n",
       "                                 2014-07-31    11017.54\n",
       "                                 2014-08-31     1439.82\n",
       "                                 2014-09-30     4345.99\n",
       "                                 2014-10-31     7085.33\n",
       "                                 2014-11-30     3210.44\n",
       "                                 2014-12-31    12561.21\n",
       "Name: ext price, Length: 240, dtype: float64"
      ]
     },
     "execution_count": 14,
     "metadata": {},
     "output_type": "execute_result"
    }
   ],
   "source": [
    "#using grouper gets the same effect as above without having to set date to the index or stringing together as many functions\n",
    "df.groupby(['name', pd.Grouper(key='date', freq='M')])['ext price'].sum()"
   ]
  },
  {
   "cell_type": "code",
   "execution_count": 15,
   "metadata": {
    "collapsed": false
   },
   "outputs": [
    {
     "data": {
      "text/plain": [
       "name                             date      \n",
       "Barton LLC                       2014-12-31    109438.50\n",
       "Cronin, Oberbrunner and Spencer  2014-12-31     89734.55\n",
       "Frami, Hills and Schmidt         2014-12-31    103569.59\n",
       "Fritsch, Russel and Anderson     2014-12-31    112214.71\n",
       "Halvorson, Crona and Champlin    2014-12-31     70004.36\n",
       "Herman LLC                       2014-12-31     82865.00\n",
       "Jerde-Hilpert                    2014-12-31    112591.43\n",
       "Kassulke, Ondricka and Metz      2014-12-31     86451.07\n",
       "Keeling LLC                      2014-12-31    100934.30\n",
       "Kiehn-Spinka                     2014-12-31     99608.77\n",
       "Koepp Ltd                        2014-12-31    103660.54\n",
       "Kuhn-Gusikowski                  2014-12-31     91094.28\n",
       "Kulas Inc                        2014-12-31    137351.96\n",
       "Pollich LLC                      2014-12-31     87347.18\n",
       "Purdy-Kunde                      2014-12-31     77898.21\n",
       "Sanford and Sons                 2014-12-31     98822.98\n",
       "Stokes LLC                       2014-12-31     91535.92\n",
       "Trantow-Barrows                  2014-12-31    123381.38\n",
       "White-Trantow                    2014-12-31    135841.99\n",
       "Will LLC                         2014-12-31    104437.60\n",
       "Name: ext price, dtype: float64"
      ]
     },
     "execution_count": 15,
     "metadata": {},
     "output_type": "execute_result"
    }
   ],
   "source": [
    "#grouper makes it more intuitive to explore data by groups and to quickly swap out what time-sets to look at\n",
    "#the below breaks each group down by year with december being the last month in that year\n",
    "df.groupby(['name', pd.Grouper(key='date', freq='A-DEC')])['ext price'].sum()"
   ]
  },
  {
   "cell_type": "code",
   "execution_count": null,
   "metadata": {
    "collapsed": true
   },
   "outputs": [],
   "source": []
  }
 ],
 "metadata": {
  "kernelspec": {
   "display_name": "Python 2",
   "language": "python",
   "name": "python2"
  },
  "language_info": {
   "codemirror_mode": {
    "name": "ipython",
    "version": 2
   },
   "file_extension": ".py",
   "mimetype": "text/x-python",
   "name": "python",
   "nbconvert_exporter": "python",
   "pygments_lexer": "ipython2",
   "version": "2.7.11"
  }
 },
 "nbformat": 4,
 "nbformat_minor": 0
}
