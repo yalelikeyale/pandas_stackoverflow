{
 "cells": [
  {
   "cell_type": "code",
   "execution_count": 1,
   "metadata": {
    "collapsed": true
   },
   "outputs": [],
   "source": [
    "import pandas as pd\n",
    "import numpy as np\n",
    "data = {\"uid\":{\"0\":\"123\",\"1\":\"345\",\"2\":\"678\",\"3\":\"123\",\"4\":\"345\",\"5\":\"123\",\"6\":\"678\",\"7\":\"369\",\"8\":\"890\",\"9\":\"678\"},\"retailer\":{\"0\":\"GUY\",\"1\":\"GUY\",\"2\":\"GUY\",\"3\":\"GUY\",\"4\":\"GUY\",\"5\":\"GAL\",\"6\":\"GUY\",\"7\":\"GAL\",\"8\":\"GAL\",\"9\":\"GUY\"},\"upload date\":{\"0\":\"11/17/17\",\"1\":\"11/17/17\",\"2\":\"11/16/17\",\"3\":\"11/16/17\",\"4\":\"11/16/17\",\"5\":\"11/17/17\",\"6\":\"11/17/17\",\"7\":\"11/17/17\",\"8\":\"11/17/17\",\"9\":\"11/15/17\"},\"price\":{\"0\":12.00,\"1\":1.23, \"2\":34.00, \"3\":69.69, \"4\":13.72, \"5\":49.98, \"6\":98.02, \"7\":1.02,\"8\":98.23,\"9\":12.69}}\n",
    "df = pd.DataFrame(data=data)\n",
    "df = df[['uid','retailer','upload date','price']]\n",
    "df['upload date']=pd.to_datetime(df['upload date'])"
   ]
  },
  {
   "cell_type": "code",
   "execution_count": 2,
   "metadata": {
    "collapsed": true
   },
   "outputs": [],
   "source": [
    "df = df.loc[df.groupby(['uid','retailer'])['upload date'].idxmax()]"
   ]
  },
  {
   "cell_type": "code",
   "execution_count": 3,
   "metadata": {
    "collapsed": false
   },
   "outputs": [
    {
     "data": {
      "text/html": [
       "<div>\n",
       "<style>\n",
       "    .dataframe thead tr:only-child th {\n",
       "        text-align: right;\n",
       "    }\n",
       "\n",
       "    .dataframe thead th {\n",
       "        text-align: left;\n",
       "    }\n",
       "\n",
       "    .dataframe tbody tr th {\n",
       "        vertical-align: top;\n",
       "    }\n",
       "</style>\n",
       "<table border=\"1\" class=\"dataframe\">\n",
       "  <thead>\n",
       "    <tr style=\"text-align: right;\">\n",
       "      <th></th>\n",
       "      <th>uid</th>\n",
       "      <th>retailer</th>\n",
       "      <th>upload date</th>\n",
       "      <th>price</th>\n",
       "    </tr>\n",
       "  </thead>\n",
       "  <tbody>\n",
       "    <tr>\n",
       "      <th>5</th>\n",
       "      <td>123</td>\n",
       "      <td>GAL</td>\n",
       "      <td>2017-11-17</td>\n",
       "      <td>49.98</td>\n",
       "    </tr>\n",
       "    <tr>\n",
       "      <th>0</th>\n",
       "      <td>123</td>\n",
       "      <td>GUY</td>\n",
       "      <td>2017-11-17</td>\n",
       "      <td>12.00</td>\n",
       "    </tr>\n",
       "    <tr>\n",
       "      <th>1</th>\n",
       "      <td>345</td>\n",
       "      <td>GUY</td>\n",
       "      <td>2017-11-17</td>\n",
       "      <td>1.23</td>\n",
       "    </tr>\n",
       "    <tr>\n",
       "      <th>7</th>\n",
       "      <td>369</td>\n",
       "      <td>GAL</td>\n",
       "      <td>2017-11-17</td>\n",
       "      <td>1.02</td>\n",
       "    </tr>\n",
       "    <tr>\n",
       "      <th>6</th>\n",
       "      <td>678</td>\n",
       "      <td>GUY</td>\n",
       "      <td>2017-11-17</td>\n",
       "      <td>98.02</td>\n",
       "    </tr>\n",
       "  </tbody>\n",
       "</table>\n",
       "</div>"
      ],
      "text/plain": [
       "   uid retailer upload date  price\n",
       "5  123      GAL  2017-11-17  49.98\n",
       "0  123      GUY  2017-11-17  12.00\n",
       "1  345      GUY  2017-11-17   1.23\n",
       "7  369      GAL  2017-11-17   1.02\n",
       "6  678      GUY  2017-11-17  98.02"
      ]
     },
     "execution_count": 3,
     "metadata": {},
     "output_type": "execute_result"
    }
   ],
   "source": [
    "df.head()"
   ]
  },
  {
   "cell_type": "code",
   "execution_count": null,
   "metadata": {
    "collapsed": true
   },
   "outputs": [],
   "source": []
  }
 ],
 "metadata": {
  "kernelspec": {
   "display_name": "Python 2",
   "language": "python",
   "name": "python2"
  },
  "language_info": {
   "codemirror_mode": {
    "name": "ipython",
    "version": 2
   },
   "file_extension": ".py",
   "mimetype": "text/x-python",
   "name": "python",
   "nbconvert_exporter": "python",
   "pygments_lexer": "ipython2",
   "version": "2.7.11"
  }
 },
 "nbformat": 4,
 "nbformat_minor": 0
}
